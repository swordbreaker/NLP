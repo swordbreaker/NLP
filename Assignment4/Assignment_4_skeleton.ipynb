{
 "cells": [
  {
   "cell_type": "code",
   "execution_count": 4,
   "metadata": {},
   "outputs": [],
   "source": [
    "import pandas as pd\n",
    "import numpy as np\n",
    "from scipy.sparse.linalg import svds\n",
    "from sklearn.feature_extraction.text import CountVectorizer\n",
    "from sklearn.feature_extraction.text import TfidfVectorizer\n",
    "import matplotlib.pyplot as plt\n",
    "\n",
    "\n",
    "from scipy.sparse import lil_matrix\n",
    "import scipy\n",
    "from collections import defaultdict\n",
    "import operator\n",
    "import math\n",
    "%matplotlib inline"
   ]
  },
  {
   "cell_type": "code",
   "execution_count": 5,
   "metadata": {},
   "outputs": [
    {
     "name": "stdout",
     "output_type": "stream",
     "text": [
      "[nltk_data] Downloading package punkt to\n",
      "[nltk_data]     C:\\Users\\tobia\\AppData\\Roaming\\nltk_data...\n",
      "[nltk_data]   Package punkt is already up-to-date!\n"
     ]
    },
    {
     "data": {
      "text/plain": [
       "True"
      ]
     },
     "execution_count": 5,
     "metadata": {},
     "output_type": "execute_result"
    }
   ],
   "source": [
    "import nltk\n",
    "nltk.download('punkt')"
   ]
  },
  {
   "cell_type": "code",
   "execution_count": 6,
   "metadata": {},
   "outputs": [],
   "source": [
    "people = pd.read_csv('10k-people-raw.csv', sep=';')"
   ]
  },
  {
   "cell_type": "code",
   "execution_count": 7,
   "metadata": {},
   "outputs": [
    {
     "name": "stdout",
     "output_type": "stream",
     "text": [
      "Name\t\t\t Index\n",
      "Michael Schumacher:\t 3\n",
      "Albert Einstein:\t 215\n",
      "Michael Jackson:\t 1951\n"
     ]
    }
   ],
   "source": [
    "vip = []\n",
    "print('Name\\t\\t\\t', 'Index')\n",
    "for index, name in enumerate(people['Name']):\n",
    "    if name == 'Michael Schumacher':\n",
    "        vip.append((index, 'Michael Schumacher'))\n",
    "        print('Michael Schumacher:\\t', index)\n",
    "    if name == 'Albert Einstein':\n",
    "        vip.append((index, 'Albert Einstein'))\n",
    "        print('Albert Einstein:\\t', index)\n",
    "    if name == 'Michael Jackson':\n",
    "        vip.append((index, 'Michael Jackson'))\n",
    "        print('Michael Jackson:\\t', index)"
   ]
  },
  {
   "cell_type": "code",
   "execution_count": 8,
   "metadata": {},
   "outputs": [
    {
     "name": "stdout",
     "output_type": "stream",
     "text": [
      "[(3, 'Michael Schumacher'), (215, 'Albert Einstein'), (1951, 'Michael Jackson')]\n"
     ]
    }
   ],
   "source": [
    "print(vip)"
   ]
  },
  {
   "cell_type": "code",
   "execution_count": 9,
   "metadata": {},
   "outputs": [
    {
     "name": "stdout",
     "output_type": "stream",
     "text": [
      "Vorlage:Infobox Formel-1-Fahrer/Wartung/Alte Parameter Michael Schumacher (* 3. Januar 1969 in Hürth-Hermülheim, Nordrhein-Westfalen) ist ein ehemaliger deutscher Automobilrennfahrer. Schumacher startete von 1991 bis 2006 sowie von 2010 bis 2012 zu insgesamt 307 Großen Preisen der Formel-1-Weltmeisterschaft. Mit sieben Weltmeistertiteln, 91 Siegen, 68 Pole-Positions und 77 schnellsten Rennrunden ist er der erfolgreichste Pilot der Formel-1-Geschichte. Darüber hinaus stand er mit 155 Platzierungen unter den Top drei am häufigsten auf dem Siegerpodest. Nachdem Schumacher 1990 und 1991 in der Spo\n",
      "\n",
      "Albert Einstein (* 14. März 1879 in Ulm; † 18. April 1955 in Princeton, New Jersey) war ein theoretischer Physiker. Seine Forschungen zur Struktur von Materie, Raum und Zeit sowie dem Wesen der Gravitation veränderten maßgeblich das physikalische Weltbild. Er gilt daher als einer der bedeutendsten Physiker aller Zeiten. Einsteins Hauptwerk, die Relativitätstheorie, machte ihn weltberühmt. Im Jahr 1905 erschien seine Arbeit mit dem Titel Zur Elektrodynamik bewegter Körper, deren Inhalt heute als spezielle Relativitätstheorie bezeichnet wird. 1915 publizierte er die allgemeine Relativitätstheori\n",
      "\n",
      "Michael Joseph Jackson (* 29. August 1958 in Gary, Indiana; † 25. Juni 2009 in Los Angeles, Kalifornien) war ein US-amerikanischer Sänger, Komponist, Tänzer und Entertainer. Aufgrund seiner Erfolge wird er als „King of Pop“ bezeichnet. Jackson gilt mit weltweit etwa 300 bis 400 Millionen verkauften Tonträgern laut Guinness-Buch der Rekorde als erfolgreichster Entertainer aller Zeiten. Andere Quellen geben sogar bis zu 750 Millionen abgesetzte Platten an. Postum verkauften sich innerhalb eines Jahres nach seinem Tod weitere 33 Millionen seiner Alben. Jackson wurde bereits als Kind Teil der in d\n"
     ]
    }
   ],
   "source": [
    "print(people['text'][3][:600])\n",
    "print()\n",
    "print(people['text'][215][:600])\n",
    "print()\n",
    "print(people['text'][1951][:600])"
   ]
  },
  {
   "cell_type": "code",
   "execution_count": 10,
   "metadata": {},
   "outputs": [],
   "source": [
    "import nltk\n",
    "stem = nltk.stem.snowball.SnowballStemmer('german')"
   ]
  },
  {
   "cell_type": "code",
   "execution_count": 11,
   "metadata": {},
   "outputs": [],
   "source": [
    "text = people['text'][1951][:600]\n",
    "stemmed_text_example = []\n",
    "stemmed_text_example.append(' '.join([stem.stem(word.lower()) for word in nltk.word_tokenize(str(text.encode('utf8')))\n",
    "                              if word.isalpha() ]))"
   ]
  },
  {
   "cell_type": "code",
   "execution_count": 12,
   "metadata": {},
   "outputs": [
    {
     "data": {
      "text/plain": [
       "['joseph jackson august in gary indiana juni in los angel kaliforni war ein komponist und entertain aufgrund sein erfolg wird er als of bezeichnet jackson gilt mit weltweit etwa bis million verkauft laut der rekord als erfolgreich entertain all zeit and quell geb sogar bis zu million abgesetzt platt an postum verkauft sich innerhalb ein jahr nach sein tod weit million sein alb jackson wurd bereit als kind teil der in d']"
      ]
     },
     "execution_count": 12,
     "metadata": {},
     "output_type": "execute_result"
    }
   ],
   "source": [
    "stemmed_text_example"
   ]
  },
  {
   "cell_type": "markdown",
   "metadata": {},
   "source": [
    "####  Vielleicht wollen Sie das Pre-Processing etwas verbessern um Umlaut  (ä --> ae, ... ), Wort-Verbindungen (US-amerikanisch, Guinness-Buch, ... ) etc.  zu \"retten\""
   ]
  },
  {
   "cell_type": "code",
   "execution_count": 13,
   "metadata": {},
   "outputs": [],
   "source": [
    "stopwords = set()\n",
    "with open(\"GermanST.txt\", \"r\") as f:\n",
    "    stopwords = set([word.lower().strip() for word in f.readlines()])"
   ]
  },
  {
   "cell_type": "code",
   "execution_count": 14,
   "metadata": {},
   "outputs": [],
   "source": [
    "class Preprocessor:\n",
    "    def __init__(self, texts):\n",
    "        self.word_dict = dict()\n",
    "        self.word_stopped_dict = dict()\n",
    "        self.stemmed_dict = dict()\n",
    "        self.stemmed_stoppped_dict = dict()\n",
    "\n",
    "        self.all_words = []\n",
    "        self.words_stopped = []\n",
    "        self.words_stemmed = []\n",
    "        self.words_stemmed_stopped = []\n",
    "\n",
    "        i = 0\n",
    "        k = 0\n",
    "        j = 0\n",
    "        l = 0\n",
    "\n",
    "        for doc_id, text in enumerate(texts):\n",
    "            self.all_words.append([])\n",
    "            self.words_stopped.append([])\n",
    "            self.words_stemmed.append([])\n",
    "            self.words_stemmed_stopped.append([])\n",
    "\n",
    "            for word in nltk.word_tokenize(str(text.encode('utf8'))):\n",
    "                if not word.isalpha(): continue\n",
    "                word = word.replace(u\"ö\", \"oe\").replace(u\"ü\", \"ue\").replace(u\"ä\", \"ae\").lower()\n",
    "                if word not in self.word_dict:\n",
    "                    self.word_dict[word] = i\n",
    "                    i += 1\n",
    "                    if word not in stopwords:\n",
    "                        self.word_stopped_dict[word] = j\n",
    "                        j += 1\n",
    "\n",
    "                stemmed = stem.stem(word)\n",
    "                if stemmed not in self.stemmed_dict:\n",
    "                    self.stemmed_dict[stemmed] = k\n",
    "                    k += 1\n",
    "                    if stemmed not in stopwords:\n",
    "                        self.stemmed_stoppped_dict[stemmed] = l\n",
    "                        l += 1\n",
    "\n",
    "                self.all_words[-1].append(word)\n",
    "                if word not in stopwords:\n",
    "                    self.words_stopped[-1].append(word)\n",
    "\n",
    "                self.words_stemmed[-1].append(stemmed)\n",
    "                if stemmed not in stopwords:\n",
    "                    self.words_stemmed_stopped[-1].append(stemmed)"
   ]
  },
  {
   "cell_type": "code",
   "execution_count": 15,
   "metadata": {},
   "outputs": [],
   "source": [
    "preprocessor = Preprocessor(people['text'])"
   ]
  },
  {
   "cell_type": "code",
   "execution_count": 17,
   "metadata": {},
   "outputs": [
    {
     "name": "stdout",
     "output_type": "stream",
     "text": [
      "298054\n",
      "297555\n",
      "222679\n",
      "222435\n"
     ]
    }
   ],
   "source": [
    "print(len(preprocessor.word_dict))\n",
    "print(len(preprocessor.word_stopped_dict))\n",
    "print(len(preprocessor.stemmed_dict))\n",
    "print(len(preprocessor.stemmed_stoppped_dict))"
   ]
  },
  {
   "cell_type": "code",
   "execution_count": 24,
   "metadata": {},
   "outputs": [],
   "source": [
    "def cos_dist(a: np.ndarray, b: np.ndarray):\n",
    "    return np.dot(a, b) / (np.linalg.norm(a) * np.linalg.norm(b))\n",
    "\n",
    "def scalar(a: np.ndarray, b: np.ndarray):\n",
    "    return np.dot(a, b)"
   ]
  },
  {
   "cell_type": "code",
   "execution_count": 18,
   "metadata": {},
   "outputs": [],
   "source": [
    "class Document:\n",
    "    def __init__(self, doc):\n",
    "        self.doc = doc\n",
    "\n",
    "    def bow_similarity(self, id: int, use_cos_dist=False):\n",
    "        sims = []\n",
    "\n",
    "        for i in range(self.doc.shape[0]):\n",
    "            if i == id: continue\n",
    "            a = self.doc[id, :].toarray().flatten()\n",
    "            b = self.doc[i, :].toarray().flatten()\n",
    "            if use_cos_dist:\n",
    "                sims.append((i, cos_dist(a, b)))\n",
    "            else:\n",
    "                sims.append((i, scalar(a, b)))\n",
    "\n",
    "        return list(sorted(sims, key=lambda sim: sim[1], reverse=True))\n",
    "\n",
    "    def print_best_10(self, id, use_cos_dist=False, with_text=True):\n",
    "        for sim in self.bow_similarity(id, use_cos_dist=use_cos_dist)[:10]:\n",
    "            idx = sim[0]\n",
    "            print(people['Name'][idx])\n",
    "            if with_text:\n",
    "                print(people['text'][idx][:400])\n",
    "            print(f\"similarity: {sim[1]}\")\n",
    "            print()"
   ]
  },
  {
   "cell_type": "code",
   "execution_count": 16,
   "metadata": {},
   "outputs": [],
   "source": [
    "class BagOfWord(Document):\n",
    "    def __init__(self, word_array, word_dict):\n",
    "        bag_of_words = lil_matrix((len(word_array), len(word_dict)))\n",
    "        print(bag_of_words.shape)\n",
    "\n",
    "        for i in range(len(word_array)):\n",
    "            for word in word_array[i]:\n",
    "                idx = word_dict[word]\n",
    "                bag_of_words[i, idx] = 1\n",
    "\n",
    "        super().__init__(bag_of_words)"
   ]
  },
  {
   "cell_type": "markdown",
   "metadata": {},
   "source": [
    "# 1) Zipf law"
   ]
  },
  {
   "cell_type": "code",
   "execution_count": 17,
   "metadata": {},
   "outputs": [],
   "source": [
    "word_dict = defaultdict(int)\n",
    "word_count = 0\n",
    "word_index = {}\n",
    "\n",
    "i = 0\n",
    "for text in people['text']:\n",
    "    for word in nltk.word_tokenize(str(text.encode('utf8'))):\n",
    "        if not word.isalpha(): continue\n",
    "        w = stem.stem(word.lower())\n",
    "        word_dict[w] += 1\n",
    "        word_count += 1\n",
    "        if w not in word_index:\n",
    "            word_index[w] = i\n",
    "            i += 1"
   ]
  },
  {
   "cell_type": "code",
   "execution_count": 18,
   "metadata": {},
   "outputs": [],
   "source": [
    "rel_dict = defaultdict(float)\n",
    "rank = []\n",
    "\n",
    "for key, value in sorted(word_dict.items(), key=operator.itemgetter(1), reverse=True):\n",
    "    rel_dict[key] = value / word_count\n",
    "    rank.append(rel_dict[key])"
   ]
  },
  {
   "cell_type": "code",
   "execution_count": 19,
   "metadata": {
    "scrolled": false
   },
   "outputs": [
    {
     "data": {
      "image/png": "[encoded data removed]",
      "text/plain": [
       "<matplotlib.figure.Figure at 0x2929b397320>"
      ]
     },
     "metadata": {},
     "output_type": "display_data"
    }
   ],
   "source": [
    "fig, ax = plt.subplots()\n",
    "plt_rank = plt.plot(np.arange(len(rank)), rank, 'r.', label=\"Zählung\")\n",
    "plt.xlabel('Rank')\n",
    "plt.ylabel('Relative häufigkeit')\n",
    "plt.legend([\"Zählung\", \"Zipf law\"])\n",
    "ax.set_yscale(\"log\", nonposy='clip')\n",
    "ax.set_xscale(\"log\")"
   ]
  },
  {
   "cell_type": "markdown",
   "metadata": {},
   "source": [
    "# 2) Bag of Words"
   ]
  },
  {
   "cell_type": "code",
   "execution_count": 20,
   "metadata": {},
   "outputs": [],
   "source": [
    "class BagOfWord(Document):\n",
    "    def __init__(self, word_array, word_dict):\n",
    "        bag_of_words = lil_matrix((len(word_array), len(word_dict)))\n",
    "        print(bag_of_words.shape)\n",
    "\n",
    "        for i in range(len(word_array)):\n",
    "            for word in word_array[i]:\n",
    "                idx = word_dict[word]\n",
    "                bag_of_words[i, idx] = 1\n",
    "\n",
    "        super().__init__(bag_of_words)"
   ]
  },
  {
   "cell_type": "code",
   "execution_count": 21,
   "metadata": {},
   "outputs": [
    {
     "name": "stdout",
     "output_type": "stream",
     "text": [
      "(10000, 298054)\n"
     ]
    }
   ],
   "source": [
    "bow = BagOfWord(preprocessor.all_words, preprocessor.word_dict)"
   ]
  },
  {
   "cell_type": "markdown",
   "metadata": {},
   "source": [
    "### Schumacher"
   ]
  },
  {
   "cell_type": "code",
   "execution_count": 22,
   "metadata": {},
   "outputs": [
    {
     "name": "stdout",
     "output_type": "stream",
     "text": [
      "Wallenstein\n",
      "Wallenstein, eigentlich Albrecht Wenzel Eusebius von Waldstein, tschechisch Albrecht Václav Eusebius z Valdštejna (* 24. September 1583 in Hermanitz an der Elbe, Böhmen; † 25. Februar 1634 in Eger, Böhmen), war ein böhmischer Feldherr und Politiker. Er war Herzog von Friedland und Sagan, von 1628 bis 1631 als Albrecht VIII. Herzog zu Mecklenburg, Fürst zu Wenden, Graf von Schwerin, Herr von Rostoc\n",
      "similarity: 691.0\n",
      "\n",
      "Theobald von Bethmann Hollweg\n",
      "Theobald Theodor Friedrich Alfred von Bethmann Hollweg (* 29. November 1856 in Hohenfinow, Provinz Brandenburg; † 2. Januar 1921 ebenda) war ein deutscher Politiker in der Zeit des Kaiserreichs. Seine Karriere begann als Verwaltungsbeamter und gipfelte in der Amtszeit als Reichskanzler von 1909 bis 1917. Theobald von Bethmann Hollweg vertrat liberale Auffassungen und stand der Fortschrittlichen Vo\n",
      "similarity: 652.0\n",
      "\n",
      "Fernando Alonso\n",
      "Vorlage:Infobox Formel-1-Fahrer/Wartung/Alte Parameter Fernando Alonso Díaz (* 29. Juli 1981 in Oviedo, Asturien) ist ein spanischer Automobilrennfahrer. Er startet seit 2001 in der Formel 1 und gewann dort 2005 und 2006 auf Renault die Weltmeisterschaft. Von 2010 bis 2014 startete Alonso für den italienischen Traditionsrennstall Ferrari, mit dem er 2010, 2012 und 2013 Vizeweltmeister wurde. 2007 \n",
      "similarity: 647.0\n",
      "\n",
      "Benjamin Franklin\n",
      "Benjamin Franklin (* 17. Januar 1706 in Boston, Massachusetts; † 17. April 1790 in Philadelphia, Pennsylvania) war ein amerikanischer Drucker, Verleger, Schriftsteller, Naturwissenschaftler, Erfinder und Staatsmann. Als einer der Gründerväter der Vereinigten Staaten beteiligte er sich am Entwurf der Unabhängigkeitserklärung der Vereinigten Staaten und war einer ihrer Unterzeichner. Während der Ame\n",
      "similarity: 641.0\n",
      "\n",
      "Florence Nightingale\n",
      "Florence Nightingale (* 12. Mai 1820 in Florenz, Großherzogtum Toskana; † 13. August 1910 in London, England) war eine Begründerin der modernen westlichen Krankenpflege und einflussreiche Reformerin des Sanitätswesens und der Gesundheitsfürsorge in Großbritannien und Britisch-Indien. Sie trug in Großbritannien und den zum Empire gehörenden Ländern wesentlich dazu bei, dass sich die Krankenpflege z\n",
      "similarity: 610.0\n",
      "\n",
      "Herbert C. Hoover\n",
      "Herbert Clark Hoover (* 10. August 1874 in West Branch, Cedar County, Iowa; † 20. Oktober 1964 in New York City, New York) war ein US-amerikanischer Politiker und von 1929 bis 1933 der 31. Präsident der Vereinigten Staaten. Zuvor war er seit 1921 unter den Präsidenten Warren G. Harding und Calvin Coolidge Handelsminister gewesen. Hoovers Präsidentschaft war mit optimistischen Erwartungen verbunden\n",
      "similarity: 603.0\n",
      "\n",
      "Herbert Hoover\n",
      "Herbert Clark Hoover (* 10. August 1874 in West Branch, Cedar County, Iowa; † 20. Oktober 1964 in New York City, New York) war ein US-amerikanischer Politiker und von 1929 bis 1933 der 31. Präsident der Vereinigten Staaten. Zuvor war er seit 1921 unter den Präsidenten Warren G. Harding und Calvin Coolidge Handelsminister gewesen. Hoovers Präsidentschaft war mit optimistischen Erwartungen verbunden\n",
      "similarity: 603.0\n",
      "\n",
      "George Washington\n",
      "George Washington [ˈwɒʃɪŋtən] (* 22. Februar 1732 auf dem Gutshof Wakefield (auch „Pope’s Plantation“ genannt) im Westmoreland County, Virginia; † 14. Dezember 1799 auf seinem Gut Mount Vernon, Virginia) war von 1789 bis 1797 der erste Präsident der Vereinigten Staaten von Amerika. Als Oberbefehlshaber der Kontinentalarmee von 1775 bis 1783 war er einer der Gründerväter der USA und leitete als Vor\n",
      "similarity: 594.0\n",
      "\n",
      "Lewis Hamilton\n",
      "Vorlage:Infobox Formel-1-Fahrer/Wartung/Alte Parameter Lewis Carl Davidson Hamilton, MBE (* 7. Januar 1985 in Stevenage, Hertfordshire, England) ist ein britischer Automobilrennfahrer. Hamilton wurde 1998 ins Förderprogramm des Formel-1-Rennstalls McLaren aufgenommen. Er gewann 2005 die Formel-3-Euroserie und 2006 die GP2-Serie. Seit 2007 startet er in der Formel 1. Von 2007 bis 2012 ging Hamilton\n",
      "similarity: 594.0\n",
      "\n",
      "Marlon Brando\n",
      "Marlon Brando, Jr. (* 3. April 1924 in Omaha, Nebraska; † 1. Juli 2004 in Los Angeles, Kalifornien) war ein amerikanischer Schauspieler. Er gilt als einer der bedeutendsten Charakterdarsteller der Filmgeschichte des 20. Jahrhunderts. Mit seinen Rollen in den Filmen Endstation Sehnsucht (1951) und Die Faust im Nacken (1954) verschaffte er der Schauspieltechnik des Method Acting weltweit Beachtung. \n",
      "similarity: 585.0\n",
      "\n"
     ]
    }
   ],
   "source": [
    "# 3 Schumacher\n",
    "bow.print_best_10(3, use_cos_dist=False)"
   ]
  },
  {
   "cell_type": "markdown",
   "metadata": {},
   "source": [
    "## Einstein"
   ]
  },
  {
   "cell_type": "code",
   "execution_count": 23,
   "metadata": {},
   "outputs": [
    {
     "name": "stdout",
     "output_type": "stream",
     "text": [
      "Benjamin Franklin\n",
      "Benjamin Franklin (* 17. Januar 1706 in Boston, Massachusetts; † 17. April 1790 in Philadelphia, Pennsylvania) war ein amerikanischer Drucker, Verleger, Schriftsteller, Naturwissenschaftler, Erfinder und Staatsmann. Als einer der Gründerväter der Vereinigten Staaten beteiligte er sich am Entwurf der Unabhängigkeitserklärung der Vereinigten Staaten und war einer ihrer Unterzeichner. Während der Ame\n",
      "similarity: 512.0\n",
      "\n",
      "Theobald von Bethmann Hollweg\n",
      "Theobald Theodor Friedrich Alfred von Bethmann Hollweg (* 29. November 1856 in Hohenfinow, Provinz Brandenburg; † 2. Januar 1921 ebenda) war ein deutscher Politiker in der Zeit des Kaiserreichs. Seine Karriere begann als Verwaltungsbeamter und gipfelte in der Amtszeit als Reichskanzler von 1909 bis 1917. Theobald von Bethmann Hollweg vertrat liberale Auffassungen und stand der Fortschrittlichen Vo\n",
      "similarity: 492.0\n",
      "\n",
      "Max Liebermann\n",
      "Max Liebermann (* 20. Juli 1847 in Berlin; † 8. Februar 1935 ebenda) war ein deutscher Maler und Grafiker. Er gehört zu den bedeutendsten Vertretern des deutschen Impressionismus. Nach einer Ausbildung in Weimar und Aufenthalten in Paris und den Niederlanden schuf er zunächst naturalistische Werke mit sozialer Thematik. Durch die Beschäftigung mit den französischen Impressionisten fand er seit 188\n",
      "similarity: 491.0\n",
      "\n",
      "Florence Nightingale\n",
      "Florence Nightingale (* 12. Mai 1820 in Florenz, Großherzogtum Toskana; † 13. August 1910 in London, England) war eine Begründerin der modernen westlichen Krankenpflege und einflussreiche Reformerin des Sanitätswesens und der Gesundheitsfürsorge in Großbritannien und Britisch-Indien. Sie trug in Großbritannien und den zum Empire gehörenden Ländern wesentlich dazu bei, dass sich die Krankenpflege z\n",
      "similarity: 476.0\n",
      "\n",
      "Mahatma Gandhi\n",
      "Mohandas Karamchand Gandhi (Gujarati: મોહનદાસ કરમચંદ ગાંધી, Hindi: मोहनदास करमचंद गांधी Mohandās Karamchand Gāndhī; genannt Mahatma Gandhi; * 2. Oktober 1869 in Porbandar, Gujarat; † 30. Januar 1948 in Neu-Delhi, Delhi) war ein indischer Rechtsanwalt, Widerstandskämpfer, Revolutionär, Publizist, Morallehrer, Asket und Pazifist. Zu Beginn des 20. Jahrhunderts setzte sich Gandhi in Südafrika gegen d\n",
      "similarity: 470.0\n",
      "\n",
      "Mohandas Karamchand Gandhi\n",
      "Mohandas Karamchand Gandhi (Gujarati: મોહનદાસ કરમચંદ ગાંધી, Hindi: मोहनदास करमचंद गांधी Mohandās Karamchand Gāndhī; genannt Mahatma Gandhi; * 2. Oktober 1869 in Porbandar, Gujarat; † 30. Januar 1948 in Neu-Delhi, Delhi) war ein indischer Rechtsanwalt, Widerstandskämpfer, Revolutionär, Publizist, Morallehrer, Asket und Pazifist. Zu Beginn des 20. Jahrhunderts setzte sich Gandhi in Südafrika gegen d\n",
      "similarity: 470.0\n",
      "\n",
      "Max Planck\n",
      "Max Karl Ernst Ludwig Planck (* 23. April 1858 in Kiel; † 4. Oktober 1947 in Göttingen) war ein bedeutender deutscher Physiker auf dem Gebiet der theoretischen Physik. Er gilt als Begründer der Quantenphysik. Für die Entdeckung des planckschen Wirkungsquantums erhielt er 1919 den Nobelpreis für Physik des Jahres 1918. Nach dem Studium in München und Berlin folgte Planck 1885 zunächst einem Ruf nac\n",
      "similarity: 470.0\n",
      "\n",
      "Wallenstein\n",
      "Wallenstein, eigentlich Albrecht Wenzel Eusebius von Waldstein, tschechisch Albrecht Václav Eusebius z Valdštejna (* 24. September 1583 in Hermanitz an der Elbe, Böhmen; † 25. Februar 1634 in Eger, Böhmen), war ein böhmischer Feldherr und Politiker. Er war Herzog von Friedland und Sagan, von 1628 bis 1631 als Albrecht VIII. Herzog zu Mecklenburg, Fürst zu Wenden, Graf von Schwerin, Herr von Rostoc\n",
      "similarity: 467.0\n",
      "\n",
      "Herbert C. Hoover\n",
      "Herbert Clark Hoover (* 10. August 1874 in West Branch, Cedar County, Iowa; † 20. Oktober 1964 in New York City, New York) war ein US-amerikanischer Politiker und von 1929 bis 1933 der 31. Präsident der Vereinigten Staaten. Zuvor war er seit 1921 unter den Präsidenten Warren G. Harding und Calvin Coolidge Handelsminister gewesen. Hoovers Präsidentschaft war mit optimistischen Erwartungen verbunden\n",
      "similarity: 462.0\n",
      "\n",
      "Herbert Hoover\n",
      "Herbert Clark Hoover (* 10. August 1874 in West Branch, Cedar County, Iowa; † 20. Oktober 1964 in New York City, New York) war ein US-amerikanischer Politiker und von 1929 bis 1933 der 31. Präsident der Vereinigten Staaten. Zuvor war er seit 1921 unter den Präsidenten Warren G. Harding und Calvin Coolidge Handelsminister gewesen. Hoovers Präsidentschaft war mit optimistischen Erwartungen verbunden\n",
      "similarity: 462.0\n",
      "\n"
     ]
    }
   ],
   "source": [
    "# 215 Einstein\n",
    "bow.print_best_10(215, use_cos_dist=False)"
   ]
  },
  {
   "cell_type": "markdown",
   "metadata": {},
   "source": [
    "## Jackson"
   ]
  },
  {
   "cell_type": "code",
   "execution_count": 24,
   "metadata": {},
   "outputs": [
    {
     "name": "stdout",
     "output_type": "stream",
     "text": [
      "Marlon Brando\n",
      "Marlon Brando, Jr. (* 3. April 1924 in Omaha, Nebraska; † 1. Juli 2004 in Los Angeles, Kalifornien) war ein amerikanischer Schauspieler. Er gilt als einer der bedeutendsten Charakterdarsteller der Filmgeschichte des 20. Jahrhunderts. Mit seinen Rollen in den Filmen Endstation Sehnsucht (1951) und Die Faust im Nacken (1954) verschaffte er der Schauspieltechnik des Method Acting weltweit Beachtung. \n",
      "similarity: 280.0\n",
      "\n",
      "Wallenstein\n",
      "Wallenstein, eigentlich Albrecht Wenzel Eusebius von Waldstein, tschechisch Albrecht Václav Eusebius z Valdštejna (* 24. September 1583 in Hermanitz an der Elbe, Böhmen; † 25. Februar 1634 in Eger, Böhmen), war ein böhmischer Feldherr und Politiker. Er war Herzog von Friedland und Sagan, von 1628 bis 1631 als Albrecht VIII. Herzog zu Mecklenburg, Fürst zu Wenden, Graf von Schwerin, Herr von Rostoc\n",
      "similarity: 273.0\n",
      "\n",
      "Mahatma Gandhi\n",
      "Mohandas Karamchand Gandhi (Gujarati: મોહનદાસ કરમચંદ ગાંધી, Hindi: मोहनदास करमचंद गांधी Mohandās Karamchand Gāndhī; genannt Mahatma Gandhi; * 2. Oktober 1869 in Porbandar, Gujarat; † 30. Januar 1948 in Neu-Delhi, Delhi) war ein indischer Rechtsanwalt, Widerstandskämpfer, Revolutionär, Publizist, Morallehrer, Asket und Pazifist. Zu Beginn des 20. Jahrhunderts setzte sich Gandhi in Südafrika gegen d\n",
      "similarity: 272.0\n",
      "\n",
      "Mohandas Karamchand Gandhi\n",
      "Mohandas Karamchand Gandhi (Gujarati: મોહનદાસ કરમચંદ ગાંધી, Hindi: मोहनदास करमचंद गांधी Mohandās Karamchand Gāndhī; genannt Mahatma Gandhi; * 2. Oktober 1869 in Porbandar, Gujarat; † 30. Januar 1948 in Neu-Delhi, Delhi) war ein indischer Rechtsanwalt, Widerstandskämpfer, Revolutionär, Publizist, Morallehrer, Asket und Pazifist. Zu Beginn des 20. Jahrhunderts setzte sich Gandhi in Südafrika gegen d\n",
      "similarity: 272.0\n",
      "\n",
      "Benjamin Franklin\n",
      "Benjamin Franklin (* 17. Januar 1706 in Boston, Massachusetts; † 17. April 1790 in Philadelphia, Pennsylvania) war ein amerikanischer Drucker, Verleger, Schriftsteller, Naturwissenschaftler, Erfinder und Staatsmann. Als einer der Gründerväter der Vereinigten Staaten beteiligte er sich am Entwurf der Unabhängigkeitserklärung der Vereinigten Staaten und war einer ihrer Unterzeichner. Während der Ame\n",
      "similarity: 271.0\n",
      "\n",
      "Michael Schumacher\n",
      "Vorlage:Infobox Formel-1-Fahrer/Wartung/Alte Parameter Michael Schumacher (* 3. Januar 1969 in Hürth-Hermülheim, Nordrhein-Westfalen) ist ein ehemaliger deutscher Automobilrennfahrer. Schumacher startete von 1991 bis 2006 sowie von 2010 bis 2012 zu insgesamt 307 Großen Preisen der Formel-1-Weltmeisterschaft. Mit sieben Weltmeistertiteln, 91 Siegen, 68 Pole-Positions und 77 schnellsten Rennrunden i\n",
      "similarity: 271.0\n",
      "\n",
      "Maria I. (England)\n",
      "Maria I. Tudor (englisch Mary Tudor), auch Maria die Katholische oder Maria die Blutige (* 18. Februar 1516 in Greenwich; † 17. November 1558 im St James’s Palace), war von 1553 bis 1558 Königin von England und Irland und der vierte Monarch des Hauses Tudor. Sie war die Tochter des Königs Heinrichs VIII. und seiner ersten Frau Katharina von Aragon. Als ihr Vater die Ehe vom englischen Klerus für n\n",
      "similarity: 266.0\n",
      "\n",
      "George Washington\n",
      "George Washington [ˈwɒʃɪŋtən] (* 22. Februar 1732 auf dem Gutshof Wakefield (auch „Pope’s Plantation“ genannt) im Westmoreland County, Virginia; † 14. Dezember 1799 auf seinem Gut Mount Vernon, Virginia) war von 1789 bis 1797 der erste Präsident der Vereinigten Staaten von Amerika. Als Oberbefehlshaber der Kontinentalarmee von 1775 bis 1783 war er einer der Gründerväter der USA und leitete als Vor\n",
      "similarity: 263.0\n",
      "\n",
      "Florence Nightingale\n",
      "Florence Nightingale (* 12. Mai 1820 in Florenz, Großherzogtum Toskana; † 13. August 1910 in London, England) war eine Begründerin der modernen westlichen Krankenpflege und einflussreiche Reformerin des Sanitätswesens und der Gesundheitsfürsorge in Großbritannien und Britisch-Indien. Sie trug in Großbritannien und den zum Empire gehörenden Ländern wesentlich dazu bei, dass sich die Krankenpflege z\n",
      "similarity: 262.0\n",
      "\n",
      "Grigori Rasputin\n",
      "Grigori Jefimowitsch Rasputin (russisch Григорий Ефимович Распутин, wiss. Transliteration Grigórij Efímovič Raspútin; * 9. Januarjul./ 21. Januar 1869greg. in Pokrowskoje, Gouvernement Tobolsk; † 17. Dezemberjul./ 30. Dezember 1916greg. in Petrograd) war ein russischer Wanderprediger, dem Erfolge als Geistheiler nachgesagt wurden.  Rasputin vor seiner St. Petersburger Zeit Die frühe Jugend Rasputi\n",
      "similarity: 261.0\n",
      "\n"
     ]
    }
   ],
   "source": [
    "# 1951 Jackson\n",
    "bow.print_best_10(1951, use_cos_dist=False)"
   ]
  },
  {
   "cell_type": "markdown",
   "metadata": {},
   "source": [
    "# 3) Bag of Words without stop words"
   ]
  },
  {
   "cell_type": "code",
   "execution_count": 25,
   "metadata": {},
   "outputs": [
    {
     "name": "stdout",
     "output_type": "stream",
     "text": [
      "(10000, 297555)\n"
     ]
    }
   ],
   "source": [
    "bow_stopped = BagOfWord(preprocessor.words_stopped, preprocessor.word_stopped_dict)"
   ]
  },
  {
   "cell_type": "markdown",
   "metadata": {},
   "source": [
    "## Schumacher"
   ]
  },
  {
   "cell_type": "code",
   "execution_count": 29,
   "metadata": {},
   "outputs": [
    {
     "name": "stdout",
     "output_type": "stream",
     "text": [
      "Fernando Alonso\n",
      "similarity: 446.0\n",
      "\n",
      "Wallenstein\n",
      "similarity: 436.0\n",
      "\n",
      "Lewis Hamilton\n",
      "similarity: 403.0\n",
      "\n",
      "Theobald von Bethmann Hollweg\n",
      "similarity: 396.0\n",
      "\n",
      "Benjamin Franklin\n",
      "similarity: 383.0\n",
      "\n",
      "Herbert C. Hoover\n",
      "similarity: 376.0\n",
      "\n",
      "Herbert Hoover\n",
      "similarity: 376.0\n",
      "\n",
      "Florence Nightingale\n",
      "similarity: 373.0\n",
      "\n",
      "Sebastian Vettel\n",
      "similarity: 363.0\n",
      "\n",
      "Marlon Brando\n",
      "similarity: 359.0\n",
      "\n"
     ]
    }
   ],
   "source": [
    "# 3 Schumacher\n",
    "bow_stopped.print_best_10(3, use_cos_dist=False, with_text=False)"
   ]
  },
  {
   "cell_type": "markdown",
   "metadata": {},
   "source": [
    "## Einstein"
   ]
  },
  {
   "cell_type": "code",
   "execution_count": 30,
   "metadata": {},
   "outputs": [
    {
     "name": "stdout",
     "output_type": "stream",
     "text": [
      "Benjamin Franklin\n",
      "similarity: 319.0\n",
      "\n",
      "Theobald von Bethmann Hollweg\n",
      "similarity: 298.0\n",
      "\n",
      "Max Liebermann\n",
      "similarity: 298.0\n",
      "\n",
      "Otto Hahn\n",
      "similarity: 291.0\n",
      "\n",
      "Florence Nightingale\n",
      "similarity: 290.0\n",
      "\n",
      "Max Planck\n",
      "similarity: 287.0\n",
      "\n",
      "Herbert C. Hoover\n",
      "similarity: 282.0\n",
      "\n",
      "Herbert Hoover\n",
      "similarity: 282.0\n",
      "\n",
      "Mahatma Gandhi\n",
      "similarity: 280.0\n",
      "\n",
      "Mohandas Karamchand Gandhi\n",
      "similarity: 280.0\n",
      "\n"
     ]
    }
   ],
   "source": [
    "# 215 Einstein\n",
    "bow_stopped.print_best_10(215, use_cos_dist=False, with_text=False)"
   ]
  },
  {
   "cell_type": "markdown",
   "metadata": {},
   "source": [
    "## Jackson"
   ]
  },
  {
   "cell_type": "code",
   "execution_count": 31,
   "metadata": {},
   "outputs": [
    {
     "name": "stdout",
     "output_type": "stream",
     "text": [
      "Marlon Brando\n",
      "similarity: 140.0\n",
      "\n",
      "Mahatma Gandhi\n",
      "similarity: 134.0\n",
      "\n",
      "Mohandas Karamchand Gandhi\n",
      "similarity: 134.0\n",
      "\n",
      "Madonna (Künstlerin)\n",
      "similarity: 130.0\n",
      "\n",
      "Maria I. (England)\n",
      "similarity: 127.0\n",
      "\n",
      "Wallenstein\n",
      "similarity: 126.0\n",
      "\n",
      "Michael Schumacher\n",
      "similarity: 125.0\n",
      "\n",
      "Benjamin Franklin\n",
      "similarity: 124.0\n",
      "\n",
      "Ulrike Meinhof\n",
      "similarity: 124.0\n",
      "\n",
      "George Washington\n",
      "similarity: 122.0\n",
      "\n"
     ]
    }
   ],
   "source": [
    "# 1951 Jackson\n",
    "bow_stopped.print_best_10(1951, use_cos_dist=False, with_text=False)"
   ]
  },
  {
   "cell_type": "markdown",
   "metadata": {},
   "source": [
    "# 4a) Term frequency without stop words"
   ]
  },
  {
   "cell_type": "code",
   "execution_count": 25,
   "metadata": {},
   "outputs": [],
   "source": [
    "class UnaryCounts(Document):\n",
    "    def __init__(self, word_array, word_dict):\n",
    "        tfidf = lil_matrix((len(word_array), len(word_dict)))\n",
    "        print(tfidf.shape)\n",
    "\n",
    "        word_counts = defaultdict(int)\n",
    "\n",
    "        for i in range(len(word_array)):\n",
    "            for word in word_array[i]:\n",
    "                word_counts[word] += 1\n",
    "\n",
    "        for i in range(len(word_array)):\n",
    "            for word in word_array[i]:\n",
    "                idx = word_dict[word]\n",
    "                tfidf[i, idx] = word_counts[word]\n",
    "\n",
    "        super().__init__(tfidf)"
   ]
  },
  {
   "cell_type": "code",
   "execution_count": 26,
   "metadata": {},
   "outputs": [
    {
     "name": "stdout",
     "output_type": "stream",
     "text": [
      "(10000, 297555)\n"
     ]
    }
   ],
   "source": [
    "unaryCounts = UnaryCounts(preprocessor.words_stopped, preprocessor.word_stopped_dict)"
   ]
  },
  {
   "cell_type": "code",
   "execution_count": 27,
   "metadata": {},
   "outputs": [
    {
     "name": "stdout",
     "output_type": "stream",
     "text": [
      "Schumacher\n",
      "Benjamin Franklin\n",
      "similarity: 2598735696.0\n",
      "\n",
      "Andrea Bocelli\n",
      "similarity: 2583506746.0\n",
      "\n",
      "Marlon Brando\n",
      "similarity: 2554206278.0\n",
      "\n",
      "Herbert C. Hoover\n",
      "similarity: 2529632275.0\n",
      "\n",
      "Herbert Hoover\n",
      "similarity: 2529632275.0\n",
      "\n",
      "Theobald von Bethmann Hollweg\n",
      "similarity: 2499806857.0\n",
      "\n",
      "Winston Churchill\n",
      "similarity: 2460778259.0\n",
      "\n",
      "Rudolf Heß\n",
      "similarity: 2456355636.0\n",
      "\n",
      "James Dean\n",
      "similarity: 2446655097.0\n",
      "\n",
      "Florence Nightingale\n",
      "similarity: 2436494889.0\n",
      "\n",
      "\n",
      "Einstein\n",
      "Benjamin Franklin\n",
      "similarity: 2874616136.0\n",
      "\n",
      "Wilhelm Solf\n",
      "similarity: 2823351764.0\n",
      "\n",
      "Otto Hahn\n",
      "similarity: 2804855093.0\n",
      "\n",
      "Marlon Brando\n",
      "similarity: 2800053349.0\n",
      "\n",
      "Herbert C. Hoover\n",
      "similarity: 2788851877.0\n",
      "\n",
      "Herbert Hoover\n",
      "similarity: 2788851877.0\n",
      "\n",
      "Paul Klee\n",
      "similarity: 2769078170.0\n",
      "\n",
      "Aleister Crowley\n",
      "similarity: 2761132035.0\n",
      "\n",
      "Klaus Mann\n",
      "similarity: 2737632311.0\n",
      "\n",
      "Georges Simenon\n",
      "similarity: 2728091978.0\n",
      "\n",
      "\n",
      "Jackson\n",
      "Miles Davis\n",
      "similarity: 1784743167.0\n",
      "\n",
      "Marlon Brando\n",
      "similarity: 1749770060.0\n",
      "\n",
      "Liza Minnelli\n",
      "similarity: 1722272387.0\n",
      "\n",
      "Benjamin Franklin\n",
      "similarity: 1718086635.0\n",
      "\n",
      "Romy Schneider\n",
      "similarity: 1683370766.0\n",
      "\n",
      "James Dean\n",
      "similarity: 1678120641.0\n",
      "\n",
      "Charlie Chaplin\n",
      "similarity: 1675366834.0\n",
      "\n",
      "Andrea Bocelli\n",
      "similarity: 1674464304.0\n",
      "\n",
      "Karl II. (England)\n",
      "similarity: 1673436003.0\n",
      "\n",
      "Klaus Mann\n",
      "similarity: 1656825789.0\n",
      "\n"
     ]
    }
   ],
   "source": [
    "#tfidf_stopped = tf_idf(use_stopword=True, do_stem=False)\n",
    "\n",
    "# 3 Schumacher\n",
    "print(\"Schumacher\")\n",
    "unaryCounts.print_best_10(3, use_cos_dist=False, with_text=False)\n",
    "print()\n",
    "\n",
    "# 215 Einstein\n",
    "print(\"Einstein\")\n",
    "unaryCounts.print_best_10(215, use_cos_dist=False, with_text=False)\n",
    "print()\n",
    "\n",
    "# 1951 Jackson\n",
    "print(\"Jackson\")\n",
    "unaryCounts.print_best_10(1951, use_cos_dist=False, with_text=False)"
   ]
  },
  {
   "cell_type": "markdown",
   "metadata": {},
   "source": [
    "# 4b) Term frequency without stop words and with stemming"
   ]
  },
  {
   "cell_type": "code",
   "execution_count": 28,
   "metadata": {},
   "outputs": [
    {
     "name": "stdout",
     "output_type": "stream",
     "text": [
      "(10000, 222435)\n"
     ]
    }
   ],
   "source": [
    "unaryCounts_stemmed = UnaryCounts(preprocessor.words_stemmed_stopped, preprocessor.stemmed_stoppped_dict)"
   ]
  },
  {
   "cell_type": "code",
   "execution_count": 29,
   "metadata": {},
   "outputs": [
    {
     "name": "stdout",
     "output_type": "stream",
     "text": [
      "Schumacher\n",
      "Benjamin Franklin\n",
      "similarity: 19951698050.0\n",
      "\n",
      "Marlon Brando\n",
      "similarity: 19854920354.0\n",
      "\n",
      "Theobald von Bethmann Hollweg\n",
      "similarity: 19840791612.0\n",
      "\n",
      "Herbert C. Hoover\n",
      "similarity: 19827271899.0\n",
      "\n",
      "Herbert Hoover\n",
      "similarity: 19827271899.0\n",
      "\n",
      "Andrea Bocelli\n",
      "similarity: 19782337236.0\n",
      "\n",
      "Mahatma Gandhi\n",
      "similarity: 19767815554.0\n",
      "\n",
      "Mohandas Karamchand Gandhi\n",
      "similarity: 19767815554.0\n",
      "\n",
      "Florence Nightingale\n",
      "similarity: 19752251121.0\n",
      "\n",
      "Algernon Sidney\n",
      "similarity: 19746623670.0\n",
      "\n",
      "\n",
      "Einstein\n",
      "Benjamin Franklin\n",
      "similarity: 20456385600.0\n",
      "\n",
      "Marlon Brando\n",
      "similarity: 20378223173.0\n",
      "\n",
      "Theobald von Bethmann Hollweg\n",
      "similarity: 20326406815.0\n",
      "\n",
      "Herbert C. Hoover\n",
      "similarity: 20311987429.0\n",
      "\n",
      "Herbert Hoover\n",
      "similarity: 20311987429.0\n",
      "\n",
      "Wilhelm Solf\n",
      "similarity: 20293883325.0\n",
      "\n",
      "Aleister Crowley\n",
      "similarity: 20211060376.0\n",
      "\n",
      "Klaus Mann\n",
      "similarity: 20170791732.0\n",
      "\n",
      "Otto Hahn\n",
      "similarity: 20170126706.0\n",
      "\n",
      "Max Liebermann\n",
      "similarity: 20135608518.0\n",
      "\n",
      "\n",
      "Jackson\n",
      "Marlon Brando\n",
      "similarity: 18078807143.0\n",
      "\n",
      "Miles Davis\n",
      "similarity: 18060987465.0\n",
      "\n",
      "Benjamin Franklin\n",
      "similarity: 17995864756.0\n",
      "\n",
      "James Dean\n",
      "similarity: 17969997806.0\n",
      "\n",
      "Mahatma Gandhi\n",
      "similarity: 17959432302.0\n",
      "\n",
      "Mohandas Karamchand Gandhi\n",
      "similarity: 17959432302.0\n",
      "\n",
      "Madonna (Künstlerin)\n",
      "similarity: 17946161095.0\n",
      "\n",
      "Virginia Woolf\n",
      "similarity: 17946023220.0\n",
      "\n",
      "Andrea Bocelli\n",
      "similarity: 17937036694.0\n",
      "\n",
      "Liza Minnelli\n",
      "similarity: 17926469000.0\n",
      "\n"
     ]
    }
   ],
   "source": [
    "#tfidf_stopped_stemmed = tf_idf(use_stopword=True, do_stem=True)\n",
    "\n",
    "# 3 Schumacher\n",
    "print(\"Schumacher\")\n",
    "unaryCounts_stemmed.print_best_10(3, use_cos_dist=False, with_text=False)\n",
    "print()\n",
    "\n",
    "# 215 Einstein\n",
    "print(\"Einstein\")\n",
    "unaryCounts_stemmed.print_best_10(215, use_cos_dist=False, with_text=False)\n",
    "print()\n",
    "\n",
    "# 1951 Jackson\n",
    "print(\"Jackson\")\n",
    "unaryCounts_stemmed.print_best_10(1951, use_cos_dist=False, with_text=False)"
   ]
  },
  {
   "cell_type": "markdown",
   "metadata": {},
   "source": [
    "# 4c) Term frequency, stopped, stemmed and Cosine Similarity"
   ]
  },
  {
   "cell_type": "code",
   "execution_count": 30,
   "metadata": {},
   "outputs": [
    {
     "name": "stdout",
     "output_type": "stream",
     "text": [
      "Schumacher\n",
      "Cristiano Ronaldo\n",
      "similarity: 0.9519432662333485\n",
      "\n",
      "James Milner\n",
      "similarity: 0.942564279985034\n",
      "\n",
      "Niccolò Machiavelli\n",
      "similarity: 0.9415381681723292\n",
      "\n",
      "Wallenstein\n",
      "similarity: 0.9415295263869948\n",
      "\n",
      "Samuel Hebich\n",
      "similarity: 0.9402452335553713\n",
      "\n",
      "Winston Churchill\n",
      "similarity: 0.9394810770700806\n",
      "\n",
      "Oskar Antze\n",
      "similarity: 0.9393390293050043\n",
      "\n",
      "Robert Schumann\n",
      "similarity: 0.9392619948525286\n",
      "\n",
      "Andreas Widhölzl\n",
      "similarity: 0.9392077644872104\n",
      "\n",
      "Georg Friedrich Händel\n",
      "similarity: 0.9388172752417516\n",
      "\n",
      "\n",
      "Einstein\n",
      "Edith Junghans\n",
      "similarity: 0.954188400622444\n",
      "\n",
      "Wilhelm Solf\n",
      "similarity: 0.9532085882360078\n",
      "\n",
      "Marc Chagall\n",
      "similarity: 0.9529788179138012\n",
      "\n",
      "Paul Klee\n",
      "similarity: 0.9529216456071233\n",
      "\n",
      "Carl Gustav Jung\n",
      "similarity: 0.9528037318771195\n",
      "\n",
      "Pablo Picasso\n",
      "similarity: 0.9526973258587595\n",
      "\n",
      "Aleister Crowley\n",
      "similarity: 0.951700552990253\n",
      "\n",
      "Max Planck\n",
      "similarity: 0.9510904213565963\n",
      "\n",
      "Max Frisch\n",
      "similarity: 0.9509948089718618\n",
      "\n",
      "Percy Ernst Schramm\n",
      "similarity: 0.9503814424170425\n",
      "\n",
      "\n",
      "Jackson\n",
      "Gary Michael Heidnik\n",
      "similarity: 0.9271274378996658\n",
      "\n",
      "Anna Nicole Smith\n",
      "similarity: 0.9248173487955862\n",
      "\n",
      "Robert I. the Bruce (Schottland)\n",
      "similarity: 0.9225398289838658\n",
      "\n",
      "Marion Cotillard\n",
      "similarity: 0.9213802648389171\n",
      "\n",
      "Carmine Persico\n",
      "similarity: 0.9210553085696385\n",
      "\n",
      "John Hurt\n",
      "similarity: 0.9207007975009446\n",
      "\n",
      "James Baldwin\n",
      "similarity: 0.920534133298043\n",
      "\n",
      "Eminem\n",
      "similarity: 0.9205321726924787\n",
      "\n",
      "Robert Peel\n",
      "similarity: 0.91951583232475\n",
      "\n",
      "F. Scott Fitzgerald\n",
      "similarity: 0.9191091530535538\n",
      "\n"
     ]
    }
   ],
   "source": [
    "# 3 Schumacher\n",
    "print(\"Schumacher\")\n",
    "unaryCounts_stemmed.print_best_10(3, use_cos_dist=True, with_text=False)\n",
    "print()\n",
    "\n",
    "# 215 Einstein\n",
    "print(\"Einstein\")\n",
    "unaryCounts_stemmed.print_best_10(215, use_cos_dist=True, with_text=False)\n",
    "print()\n",
    "\n",
    "# 1951 Jackson\n",
    "print(\"Jackson\")\n",
    "unaryCounts_stemmed.print_best_10(1951, use_cos_dist=True, with_text=False)"
   ]
  },
  {
   "cell_type": "markdown",
   "metadata": {},
   "source": [
    "# 5) TF-IDF"
   ]
  },
  {
   "cell_type": "code",
   "execution_count": 31,
   "metadata": {},
   "outputs": [],
   "source": [
    "class TfIdf(Document):\n",
    "    def __init__(self, word_array, word_dict):\n",
    "        num_docs = people.shape[0]\n",
    "        idf_dict = defaultdict(int)\n",
    "\n",
    "        tfidf = lil_matrix((len(word_array), len(word_dict)))\n",
    "        print(tfidf.shape)\n",
    "\n",
    "        word_count = defaultdict(int)\n",
    "\n",
    "        for i in range(len(word_array)):\n",
    "            ws = set()\n",
    "            for word in word_array[i]:\n",
    "                word_count[word] += 1\n",
    "                if word not in ws:\n",
    "                    ws.add(word)\n",
    "\n",
    "            for w in ws:\n",
    "                idf_dict[w] += 1\n",
    "\n",
    "        for i in range(len(word_array)):\n",
    "            for word in word_array[i]:\n",
    "                idx = word_dict[word]\n",
    "                tfidf[i, idx] = word_count[word] * (1 + math.log(num_docs / idf_dict[word]))\n",
    "\n",
    "        super().__init__(tfidf)"
   ]
  },
  {
   "cell_type": "code",
   "execution_count": 32,
   "metadata": {},
   "outputs": [
    {
     "name": "stdout",
     "output_type": "stream",
     "text": [
      "(10000, 222435)\n"
     ]
    }
   ],
   "source": [
    "tfidf = TfIdf(preprocessor.words_stemmed_stopped, preprocessor.stemmed_stoppped_dict)"
   ]
  },
  {
   "cell_type": "code",
   "execution_count": 33,
   "metadata": {},
   "outputs": [
    {
     "name": "stdout",
     "output_type": "stream",
     "text": [
      "Schumacher\n",
      "Cristiano Ronaldo\n",
      "similarity: 0.8621551363642515\n",
      "\n",
      "Andreas Widhölzl\n",
      "similarity: 0.838589244618848\n",
      "\n",
      "Fernando Alonso\n",
      "similarity: 0.8363815676767452\n",
      "\n",
      "James Milner\n",
      "similarity: 0.8301115679725974\n",
      "\n",
      "Georg Friedrich Händel\n",
      "similarity: 0.8269966427958464\n",
      "\n",
      "George Frideric Handel\n",
      "similarity: 0.8269966427958464\n",
      "\n",
      "Beatrix Potter\n",
      "similarity: 0.8255050756766815\n",
      "\n",
      "David Seaman\n",
      "similarity: 0.8242160557478618\n",
      "\n",
      "Sebastian Vettel\n",
      "similarity: 0.824145600836881\n",
      "\n",
      "Wallenstein\n",
      "similarity: 0.8240350689434287\n",
      "\n",
      "\n",
      "Einstein\n",
      "Edith Junghans\n",
      "similarity: 0.8538749404532807\n",
      "\n",
      "Carl Gustav Jung\n",
      "similarity: 0.8531702282992385\n",
      "\n",
      "Paul Klee\n",
      "similarity: 0.8517449159187851\n",
      "\n",
      "Max Planck\n",
      "similarity: 0.851562240713417\n",
      "\n",
      "Wilhelm Solf\n",
      "similarity: 0.8512543476276822\n",
      "\n",
      "Pablo Picasso\n",
      "similarity: 0.8490565922035472\n",
      "\n",
      "Marc Chagall\n",
      "similarity: 0.8483333994768917\n",
      "\n",
      "Max Frisch\n",
      "similarity: 0.8480540690156841\n",
      "\n",
      "Aleister Crowley\n",
      "similarity: 0.8464016351667035\n",
      "\n",
      "Thomas Mann\n",
      "similarity: 0.846081700837326\n",
      "\n",
      "\n",
      "Jackson\n",
      "Gary Michael Heidnik\n",
      "similarity: 0.8006597797981414\n",
      "\n",
      "Eminem\n",
      "similarity: 0.79529801002384\n",
      "\n",
      "Anna Nicole Smith\n",
      "similarity: 0.7919523837745128\n",
      "\n",
      "Carmine Persico\n",
      "similarity: 0.7887257777479257\n",
      "\n",
      "Miles Davis\n",
      "similarity: 0.7887052360792562\n",
      "\n",
      "John Hurt\n",
      "similarity: 0.7864911609244526\n",
      "\n",
      "Grayson Hall\n",
      "similarity: 0.7828867606038566\n",
      "\n",
      "Caryl Chessman\n",
      "similarity: 0.782817663094789\n",
      "\n",
      "Marion Cotillard\n",
      "similarity: 0.7818467543442422\n",
      "\n",
      "Alvin Ira Malnik\n",
      "similarity: 0.7814126518138012\n",
      "\n"
     ]
    }
   ],
   "source": [
    "# 3 Schumacher\n",
    "print(\"Schumacher\")\n",
    "tfidf.print_best_10(3, use_cos_dist=True, with_text=False)\n",
    "print()\n",
    "\n",
    "# 215 Einstein\n",
    "print(\"Einstein\")\n",
    "tfidf.print_best_10(215, use_cos_dist=True, with_text=False)\n",
    "print()\n",
    "\n",
    "# 1951 Jackson\n",
    "print(\"Jackson\")\n",
    "tfidf.print_best_10(1951, use_cos_dist=True, with_text=False)"
   ]
  },
  {
   "cell_type": "markdown",
   "metadata": {},
   "source": [
    "# 6a) LSA with k=100"
   ]
  },
  {
   "cell_type": "code",
   "execution_count": 43,
   "metadata": {},
   "outputs": [],
   "source": [
    "s, e, u = scipy.sparse.linalg.svds(tfidf.doc.transpose(), k=100)"
   ]
  },
  {
   "cell_type": "code",
   "execution_count": 44,
   "metadata": {},
   "outputs": [
    {
     "name": "stdout",
     "output_type": "stream",
     "text": [
      "a: (10000, 222435)\n",
      "s: (222435, 100)\n",
      "e: (100,)\n",
      "u: (100, 10000)\n"
     ]
    }
   ],
   "source": [
    "print(f\"a: {tfidf.doc.shape}\")\n",
    "print(f\"s: {s.shape}\")\n",
    "print(f\"e: {e.shape}\")\n",
    "print(f\"u: {u.shape}\")"
   ]
  },
  {
   "cell_type": "code",
   "execution_count": 45,
   "metadata": {},
   "outputs": [],
   "source": [
    "epsilon = np.diag(e)\n",
    "#termns = np.dot(s, epsilon)\n",
    "lsa_documents_100 = np.dot(epsilon, u)"
   ]
  },
  {
   "cell_type": "code",
   "execution_count": 46,
   "metadata": {},
   "outputs": [],
   "source": [
    "def lsa_similarity(id:int, docs, use_cos_dist=False):\n",
    "    sims = []\n",
    "    for i in range(docs.shape[1]):\n",
    "        if i == id: continue\n",
    "        a = docs[:,id].flatten()\n",
    "        b = docs[:, i].flatten()\n",
    "        sims.append((i, cos_dist(a, b)))\n",
    "                    \n",
    "    return list(sorted(sims, key=lambda sim: sim[1], reverse=True))\n",
    "\n",
    "def print_best_10_lsa(id, docs, with_text=True):\n",
    "    for sim in lsa_similarity(id, docs)[:10]:\n",
    "        idx = sim[0]\n",
    "        print(people['Name'][idx])\n",
    "        if with_text:\n",
    "            print(people['text'][idx][:400])\n",
    "        print(f\"similarity: {sim[1]}\")\n",
    "        print()"
   ]
  },
  {
   "cell_type": "code",
   "execution_count": 47,
   "metadata": {},
   "outputs": [
    {
     "name": "stdout",
     "output_type": "stream",
     "text": [
      "Schumacher\n",
      "Cristiano Ronaldo\n",
      "similarity: 0.9470341930245585\n",
      "\n",
      "Georg Friedrich Händel\n",
      "similarity: 0.9267193955262509\n",
      "\n",
      "George Frideric Handel\n",
      "similarity: 0.9267193955262509\n",
      "\n",
      "Beatrix Potter\n",
      "similarity: 0.9260246605115227\n",
      "\n",
      "James Milner\n",
      "similarity: 0.9232957805936491\n",
      "\n",
      "Andrea Bocelli\n",
      "similarity: 0.9214268183764369\n",
      "\n",
      "Andreas Widhölzl\n",
      "similarity: 0.921272750290895\n",
      "\n",
      "Rudolf Harbig\n",
      "similarity: 0.9212332899258109\n",
      "\n",
      "Niccolò Machiavelli\n",
      "similarity: 0.9209740167999139\n",
      "\n",
      "Oskar Antze\n",
      "similarity: 0.9201364629555047\n",
      "\n",
      "\n",
      "Einstein\n",
      "Edith Junghans\n",
      "similarity: 0.9665521662449934\n",
      "\n",
      "Paul Klee\n",
      "similarity: 0.9614407094338931\n",
      "\n",
      "Marc Chagall\n",
      "similarity: 0.9609960800785907\n",
      "\n",
      "Carl Gustav Jung\n",
      "similarity: 0.9595012669435928\n",
      "\n",
      "Aleister Crowley\n",
      "similarity: 0.9588366573683919\n",
      "\n",
      "Max Planck\n",
      "similarity: 0.9576619802927677\n",
      "\n",
      "George Grosz\n",
      "similarity: 0.9567232914103972\n",
      "\n",
      "Wilhelm Solf\n",
      "similarity: 0.9564898732558504\n",
      "\n",
      "Pablo Picasso\n",
      "similarity: 0.9561888310784141\n",
      "\n",
      "Konrad Adenauer\n",
      "similarity: 0.9551118102657501\n",
      "\n",
      "\n",
      "Jackson\n",
      "Gary Michael Heidnik\n",
      "similarity: 0.9015738890737026\n",
      "\n",
      "Johnny Cash\n",
      "similarity: 0.8832184498319223\n",
      "\n",
      "Eminem\n",
      "similarity: 0.8826247661401151\n",
      "\n",
      "Anna Nicole Smith\n",
      "similarity: 0.8824228014443712\n",
      "\n",
      "Frank Sinatra\n",
      "similarity: 0.8820236165409877\n",
      "\n",
      "Howard Hughes\n",
      "similarity: 0.8814026098908465\n",
      "\n",
      "Howard Carter\n",
      "similarity: 0.8799838713266055\n",
      "\n",
      "Bobby Driscoll\n",
      "similarity: 0.8774295401875322\n",
      "\n",
      "Mariah Carey\n",
      "similarity: 0.877250880085395\n",
      "\n",
      "Aung San Suu Kyi\n",
      "similarity: 0.8766631765297973\n",
      "\n"
     ]
    }
   ],
   "source": [
    "# 3 Schumacher\n",
    "print(\"Schumacher\")\n",
    "print_best_10_lsa(3, lsa_documents_100, with_text=False)\n",
    "print()\n",
    "\n",
    "# 215 Einstein\n",
    "print(\"Einstein\")\n",
    "print_best_10_lsa(215, lsa_documents_100, with_text=False)\n",
    "print()\n",
    "\n",
    "# 1951 Jackson\n",
    "print(\"Jackson\")\n",
    "print_best_10_lsa(1951, lsa_documents_100, with_text=False)"
   ]
  },
  {
   "cell_type": "markdown",
   "metadata": {},
   "source": [
    "# 6b) LSA with k=500"
   ]
  },
  {
   "cell_type": "code",
   "execution_count": 48,
   "metadata": {},
   "outputs": [],
   "source": [
    "s, e, u = scipy.sparse.linalg.svds(tfidf.doc.transpose(), k=500)\n",
    "epsilon = np.diag(e)\n",
    "lsa_documents_500 = np.dot(epsilon, u)"
   ]
  },
  {
   "cell_type": "code",
   "execution_count": 49,
   "metadata": {},
   "outputs": [
    {
     "name": "stdout",
     "output_type": "stream",
     "text": [
      "Schumacher\n",
      "Cristiano Ronaldo\n",
      "similarity: 0.8917416673221519\n",
      "\n",
      "Georg Friedrich Händel\n",
      "similarity: 0.8670082739036856\n",
      "\n",
      "George Frideric Handel\n",
      "similarity: 0.867008273903685\n",
      "\n",
      "Andreas Widhölzl\n",
      "similarity: 0.8659925128135592\n",
      "\n",
      "Wallenstein\n",
      "similarity: 0.8627405837500177\n",
      "\n",
      "Beatrix Potter\n",
      "similarity: 0.86168554638648\n",
      "\n",
      "James Milner\n",
      "similarity: 0.8604329040847465\n",
      "\n",
      "Fernando Alonso\n",
      "similarity: 0.8598743826952799\n",
      "\n",
      "George Washington\n",
      "similarity: 0.8594308139110487\n",
      "\n",
      "Niccolò Machiavelli\n",
      "similarity: 0.8580297021649945\n",
      "\n",
      "\n",
      "Einstein\n",
      "Wilhelm Solf\n",
      "similarity: 0.8859269229092839\n",
      "\n",
      "Carl Gustav Jung\n",
      "similarity: 0.8846307733032939\n",
      "\n",
      "Edith Junghans\n",
      "similarity: 0.8840761469643836\n",
      "\n",
      "Max Planck\n",
      "similarity: 0.8827529087117073\n",
      "\n",
      "Pablo Picasso\n",
      "similarity: 0.8811529700573212\n",
      "\n",
      "Marc Chagall\n",
      "similarity: 0.8804059191481933\n",
      "\n",
      "Max Frisch\n",
      "similarity: 0.8802815175833163\n",
      "\n",
      "Paul Klee\n",
      "similarity: 0.8792057448683713\n",
      "\n",
      "Percy Ernst Schramm\n",
      "similarity: 0.8784015336317806\n",
      "\n",
      "Aleister Crowley\n",
      "similarity: 0.8781942168037606\n",
      "\n",
      "\n",
      "Jackson\n",
      "Gary Michael Heidnik\n",
      "similarity: 0.8183565642384985\n",
      "\n",
      "Eminem\n",
      "similarity: 0.8160546522547092\n",
      "\n",
      "Miles Davis\n",
      "similarity: 0.8116595783050501\n",
      "\n",
      "Anna Nicole Smith\n",
      "similarity: 0.8088476369611971\n",
      "\n",
      "Carmine Persico\n",
      "similarity: 0.8086437822948164\n",
      "\n",
      "Johnny Cash\n",
      "similarity: 0.8053216688731074\n",
      "\n",
      "John Hurt\n",
      "similarity: 0.8042686641014716\n",
      "\n",
      "Grayson Hall\n",
      "similarity: 0.8036346406940073\n",
      "\n",
      "Pancho Villa\n",
      "similarity: 0.8030658927151405\n",
      "\n",
      "Mariah Carey\n",
      "similarity: 0.8028834010573823\n",
      "\n"
     ]
    }
   ],
   "source": [
    "# 3 Schumacher\n",
    "print(\"Schumacher\")\n",
    "print_best_10_lsa(3, lsa_documents_500, with_text=False)\n",
    "print()\n",
    "\n",
    "# 215 Einstein\n",
    "print(\"Einstein\")\n",
    "print_best_10_lsa(215, lsa_documents_500, with_text=False)\n",
    "print()\n",
    "\n",
    "# 1951 Jackson\n",
    "print(\"Jackson\")\n",
    "print_best_10_lsa(1951, lsa_documents_500, with_text=False)"
   ]
  },
  {
   "cell_type": "markdown",
   "metadata": {},
   "source": [
    "# 6c) LSA with k=1000"
   ]
  },
  {
   "cell_type": "code",
   "execution_count": 50,
   "metadata": {},
   "outputs": [],
   "source": [
    "s, e, u = scipy.sparse.linalg.svds(tfidf.doc.transpose(), k=1000)\n",
    "epsilon = np.diag(e)\n",
    "lsa_documents_1000 = np.dot(epsilon, u)"
   ]
  },
  {
   "cell_type": "code",
   "execution_count": 51,
   "metadata": {},
   "outputs": [
    {
     "name": "stdout",
     "output_type": "stream",
     "text": [
      "Schumacher\n",
      "Cristiano Ronaldo\n",
      "similarity: 0.8806935820073338\n",
      "\n",
      "Georg Friedrich Händel\n",
      "similarity: 0.8547440306973657\n",
      "\n",
      "George Frideric Handel\n",
      "similarity: 0.8547440306973657\n",
      "\n",
      "Andreas Widhölzl\n",
      "similarity: 0.8535004105694695\n",
      "\n",
      "Wallenstein\n",
      "similarity: 0.8518495538431375\n",
      "\n",
      "Fernando Alonso\n",
      "similarity: 0.8496498657265799\n",
      "\n",
      "Beatrix Potter\n",
      "similarity: 0.8487202920548599\n",
      "\n",
      "James Milner\n",
      "similarity: 0.8480033745017613\n",
      "\n",
      "George Washington\n",
      "similarity: 0.8474425306255802\n",
      "\n",
      "Benjamin Franklin\n",
      "similarity: 0.8457154014944657\n",
      "\n",
      "\n",
      "Einstein\n",
      "Wilhelm Solf\n",
      "similarity: 0.8742161656869935\n",
      "\n",
      "Carl Gustav Jung\n",
      "similarity: 0.8709373245504278\n",
      "\n",
      "Edith Junghans\n",
      "similarity: 0.8694878690846903\n",
      "\n",
      "Max Planck\n",
      "similarity: 0.8691472143337184\n",
      "\n",
      "Pablo Picasso\n",
      "similarity: 0.8676219050223912\n",
      "\n",
      "Marc Chagall\n",
      "similarity: 0.866742825259238\n",
      "\n",
      "Max Frisch\n",
      "similarity: 0.8667036819141825\n",
      "\n",
      "Paul Klee\n",
      "similarity: 0.8664570480065127\n",
      "\n",
      "Percy Ernst Schramm\n",
      "similarity: 0.8653054217245475\n",
      "\n",
      "Max Liebermann\n",
      "similarity: 0.8646956881917285\n",
      "\n",
      "\n",
      "Jackson\n",
      "Gary Michael Heidnik\n",
      "similarity: 0.8079080044038401\n",
      "\n",
      "Eminem\n",
      "similarity: 0.8047147107295288\n",
      "\n",
      "Miles Davis\n",
      "similarity: 0.8000505685382532\n",
      "\n",
      "Anna Nicole Smith\n",
      "similarity: 0.7981330323962679\n",
      "\n",
      "Carmine Persico\n",
      "similarity: 0.798050803042111\n",
      "\n",
      "John Hurt\n",
      "similarity: 0.7934007965734966\n",
      "\n",
      "Grayson Hall\n",
      "similarity: 0.7927307525149779\n",
      "\n",
      "Johnny Cash\n",
      "similarity: 0.7926296669353866\n",
      "\n",
      "Marion Cotillard\n",
      "similarity: 0.7903531427826266\n",
      "\n",
      "Mariah Carey\n",
      "similarity: 0.790203888358553\n",
      "\n"
     ]
    }
   ],
   "source": [
    "# 3 Schumacher\n",
    "print(\"Schumacher\")\n",
    "print_best_10_lsa(3, lsa_documents_1000, with_text=False)\n",
    "print()\n",
    "\n",
    "# 215 Einstein\n",
    "print(\"Einstein\")\n",
    "print_best_10_lsa(215, lsa_documents_1000, with_text=False)\n",
    "print()\n",
    "\n",
    "# 1951 Jackson\n",
    "print(\"Jackson\")\n",
    "print_best_10_lsa(1951, lsa_documents_1000, with_text=False)"
   ]
  }
 ],
 "metadata": {
  "kernelspec": {
   "display_name": "Python 3",
   "language": "python",
   "name": "python3"
  },
  "language_info": {
   "codemirror_mode": {
    "name": "ipython",
    "version": 3
   },
   "file_extension": ".py",
   "mimetype": "text/x-python",
   "name": "python",
   "nbconvert_exporter": "python",
   "pygments_lexer": "ipython3",
   "version": "3.6.4"
  }
 },
 "nbformat": 4,
 "nbformat_minor": 2
}
