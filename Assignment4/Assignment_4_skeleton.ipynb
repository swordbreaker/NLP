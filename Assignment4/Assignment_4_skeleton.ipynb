{
 "cells": [
  {
   "cell_type": "code",
   "execution_count": 9,
   "metadata": {},
   "outputs": [],
   "source": [
    "import pandas as pd\n",
    "import numpy as np\n",
    "from scipy.sparse.linalg import svds\n",
    "from sklearn.feature_extraction.text import CountVectorizer\n",
    "from sklearn.feature_extraction.text import TfidfVectorizer\n",
    "import matplotlib.pyplot as plt\n",
    "\n",
    "\n",
    "from scipy.sparse import lil_matrix\n",
    "from collections import defaultdict\n",
    "import operator\n",
    "import math\n",
    "%matplotlib inline"
   ]
  },
  {
   "cell_type": "code",
   "execution_count": 10,
   "metadata": {},
   "outputs": [
    {
     "name": "stdout",
     "output_type": "stream",
     "text": [
      "[nltk_data] Downloading package punkt to\n",
      "[nltk_data]     C:\\Users\\tobia\\AppData\\Roaming\\nltk_data...\n",
      "[nltk_data]   Package punkt is already up-to-date!\n"
     ]
    },
    {
     "data": {
      "text/plain": [
       "True"
      ]
     },
     "execution_count": 10,
     "metadata": {},
     "output_type": "execute_result"
    }
   ],
   "source": [
    "import nltk\n",
    "nltk.download('punkt')"
   ]
  },
  {
   "cell_type": "code",
   "execution_count": 3,
   "metadata": {},
   "outputs": [],
   "source": [
    "people = pd.read_csv('10k-people-raw.csv', sep=';')"
   ]
  },
  {
   "cell_type": "code",
   "execution_count": 4,
   "metadata": {},
   "outputs": [
    {
     "name": "stdout",
     "output_type": "stream",
     "text": [
      "Name\t\t\t Index\n",
      "Michael Schumacher:\t 3\n",
      "Albert Einstein:\t 215\n",
      "Michael Jackson:\t 1951\n"
     ]
    }
   ],
   "source": [
    "vip = []\n",
    "print('Name\\t\\t\\t', 'Index')\n",
    "for index, name in enumerate(people['Name']):\n",
    "    if name == 'Michael Schumacher':\n",
    "        vip.append((index, 'Michael Schumacher'))\n",
    "        print('Michael Schumacher:\\t', index)\n",
    "    if name == 'Albert Einstein':\n",
    "        vip.append((index, 'Albert Einstein'))\n",
    "        print('Albert Einstein:\\t', index)\n",
    "    if name == 'Michael Jackson':\n",
    "        vip.append((index, 'Michael Jackson'))\n",
    "        print('Michael Jackson:\\t', index)"
   ]
  },
  {
   "cell_type": "code",
   "execution_count": 5,
   "metadata": {},
   "outputs": [
    {
     "name": "stdout",
     "output_type": "stream",
     "text": [
      "[(3, 'Michael Schumacher'), (215, 'Albert Einstein'), (1951, 'Michael Jackson')]\n"
     ]
    }
   ],
   "source": [
    "print(vip)"
   ]
  },
  {
   "cell_type": "code",
   "execution_count": 6,
   "metadata": {},
   "outputs": [
    {
     "name": "stdout",
     "output_type": "stream",
     "text": [
      "Vorlage:Infobox Formel-1-Fahrer/Wartung/Alte Parameter Michael Schumacher (* 3. Januar 1969 in Hürth-Hermülheim, Nordrhein-Westfalen) ist ein ehemaliger deutscher Automobilrennfahrer. Schumacher startete von 1991 bis 2006 sowie von 2010 bis 2012 zu insgesamt 307 Großen Preisen der Formel-1-Weltmeisterschaft. Mit sieben Weltmeistertiteln, 91 Siegen, 68 Pole-Positions und 77 schnellsten Rennrunden ist er der erfolgreichste Pilot der Formel-1-Geschichte. Darüber hinaus stand er mit 155 Platzierungen unter den Top drei am häufigsten auf dem Siegerpodest. Nachdem Schumacher 1990 und 1991 in der Spo\n",
      "\n",
      "Albert Einstein (* 14. März 1879 in Ulm; † 18. April 1955 in Princeton, New Jersey) war ein theoretischer Physiker. Seine Forschungen zur Struktur von Materie, Raum und Zeit sowie dem Wesen der Gravitation veränderten maßgeblich das physikalische Weltbild. Er gilt daher als einer der bedeutendsten Physiker aller Zeiten. Einsteins Hauptwerk, die Relativitätstheorie, machte ihn weltberühmt. Im Jahr 1905 erschien seine Arbeit mit dem Titel Zur Elektrodynamik bewegter Körper, deren Inhalt heute als spezielle Relativitätstheorie bezeichnet wird. 1915 publizierte er die allgemeine Relativitätstheori\n",
      "\n",
      "Michael Joseph Jackson (* 29. August 1958 in Gary, Indiana; † 25. Juni 2009 in Los Angeles, Kalifornien) war ein US-amerikanischer Sänger, Komponist, Tänzer und Entertainer. Aufgrund seiner Erfolge wird er als „King of Pop“ bezeichnet. Jackson gilt mit weltweit etwa 300 bis 400 Millionen verkauften Tonträgern laut Guinness-Buch der Rekorde als erfolgreichster Entertainer aller Zeiten. Andere Quellen geben sogar bis zu 750 Millionen abgesetzte Platten an. Postum verkauften sich innerhalb eines Jahres nach seinem Tod weitere 33 Millionen seiner Alben. Jackson wurde bereits als Kind Teil der in d\n"
     ]
    }
   ],
   "source": [
    "print(people['text'][3][:600])\n",
    "print()\n",
    "print(people['text'][215][:600])\n",
    "print()\n",
    "print(people['text'][1951][:600])"
   ]
  },
  {
   "cell_type": "code",
   "execution_count": 12,
   "metadata": {},
   "outputs": [],
   "source": [
    "import nltk\n",
    "stem = nltk.stem.snowball.SnowballStemmer('german')"
   ]
  },
  {
   "cell_type": "code",
   "execution_count": 8,
   "metadata": {},
   "outputs": [],
   "source": [
    "text = people['text'][1951][:600]\n",
    "stemmed_text_example = []\n",
    "stemmed_text_example.append(' '.join([stem.stem(word.lower()) for word in nltk.word_tokenize(str(text.encode('utf8')))\n",
    "                              if word.isalpha() ]))"
   ]
  },
  {
   "cell_type": "code",
   "execution_count": 9,
   "metadata": {},
   "outputs": [
    {
     "data": {
      "text/plain": [
       "['joseph jackson august in gary indiana juni in los angel kaliforni war ein komponist und entertain aufgrund sein erfolg wird er als of bezeichnet jackson gilt mit weltweit etwa bis million verkauft laut der rekord als erfolgreich entertain all zeit and quell geb sogar bis zu million abgesetzt platt an postum verkauft sich innerhalb ein jahr nach sein tod weit million sein alb jackson wurd bereit als kind teil der in d']"
      ]
     },
     "execution_count": 9,
     "metadata": {},
     "output_type": "execute_result"
    }
   ],
   "source": [
    "stemmed_text_example"
   ]
  },
  {
   "cell_type": "markdown",
   "metadata": {},
   "source": [
    "####  Vielleicht wollen Sie das Pre-Processing etwas verbessern um Umlaut  (ä --> ae, ... ), Wort-Verbindungen (US-amerikanisch, Guinness-Buch, ... ) etc.  zu \"retten\""
   ]
  },
  {
   "cell_type": "markdown",
   "metadata": {},
   "source": [
    "# 1) Zipf law"
   ]
  },
  {
   "cell_type": "code",
   "execution_count": 37,
   "metadata": {},
   "outputs": [],
   "source": [
    "word_dict = defaultdict(int)\n",
    "word_count = 0\n",
    "word_index = {}\n",
    "\n",
    "i = 0\n",
    "for text in people['text']:\n",
    "    for word in nltk.word_tokenize(str(text.encode('utf8'))):\n",
    "        if not word.isalpha(): continue\n",
    "        w = stem.stem(word.lower())\n",
    "        word_dict[w] += 1\n",
    "        word_count += 1\n",
    "        if w not in word_index:\n",
    "            word_index[w] = i\n",
    "            i += 1"
   ]
  },
  {
   "cell_type": "code",
   "execution_count": 38,
   "metadata": {},
   "outputs": [],
   "source": [
    "rel_dict = defaultdict(float)\n",
    "rank = []\n",
    "\n",
    "for key, value in sorted(word_dict.items(), key=operator.itemgetter(1), reverse=True):\n",
    "    rel_dict[key] = value / word_count\n",
    "    rank.append(rel_dict[key])"
   ]
  },
  {
   "cell_type": "code",
   "execution_count": 39,
   "metadata": {},
   "outputs": [
    {
     "data": {
      "image/png": "[encoded data removed]",
      "text/plain": [
       "<matplotlib.figure.Figure at 0x1b064852710>"
      ]
     },
     "metadata": {},
     "output_type": "display_data"
    }
   ],
   "source": [
    "fig, ax = plt.subplots()\n",
    "plt_rank = plt.plot(np.arange(len(rank)), rank, 'r.', label=\"Zählung\")\n",
    "#plt_zipf_law = plt.plot([0, len(rank)], [rank[0], rank[-1]], label=\"Zipf law\")\n",
    "plt.xlabel('Rank')\n",
    "plt.ylabel('Relative häufigkeit')\n",
    "plt.legend([\"Zählung\", \"Zipf law\"])\n",
    "ax.set_yscale(\"log\", nonposy='clip')"
   ]
  },
  {
   "cell_type": "markdown",
   "metadata": {},
   "source": [
    "# 2) Bag of Words"
   ]
  },
  {
   "cell_type": "code",
   "execution_count": 40,
   "metadata": {},
   "outputs": [
    {
     "name": "stdout",
     "output_type": "stream",
     "text": [
      "(10000, 222679)\n"
     ]
    }
   ],
   "source": [
    "#bag_of_words = np.zeros((len(people['text']), len(word_index)))\n",
    "bag_of_words = lil_matrix((len(people['text']), len(word_index)))\n",
    "print(bag_of_words.shape)\n",
    "\n",
    "for i, text in enumerate(people['text']):\n",
    "    for word in nltk.word_tokenize(str(text.encode('utf8'))):\n",
    "        if not word.isalpha(): continue\n",
    "        w = stem.stem(word.lower())\n",
    "        idx = word_index[w]\n",
    "        bag_of_words[i, idx] = 1"
   ]
  },
  {
   "cell_type": "code",
   "execution_count": 4,
   "metadata": {},
   "outputs": [],
   "source": [
    "def cos_dist(a:np.ndarray, b:np.ndarray):\n",
    "    return np.dot(a,b)/(np.linalg.norm(a) * np.linalg.norm(b))\n",
    "\n",
    "def scalar(a:np.ndarray, b:np.ndarray):\n",
    "    return np.dot(a,b)\n",
    "\n",
    "def bow_similarity(id:int, bow, use_cos_dist=False):\n",
    "    sims = []\n",
    "    for i in range(bow.shape[0]):\n",
    "        if i == id: continue\n",
    "        a = bow[id,:].toarray().flatten()\n",
    "        b = bow[i, :].toarray().flatten()\n",
    "        if use_cos_dist:\n",
    "            sims.append((i, cos_dist(a, b)))\n",
    "        else:\n",
    "            sims.append((i, scalar(a, b)))\n",
    "                    \n",
    "    return list(sorted(sims, key=lambda sim: sim[1], reverse=True))"
   ]
  },
  {
   "cell_type": "code",
   "execution_count": 5,
   "metadata": {},
   "outputs": [],
   "source": [
    "def print_best_10(id, bow, use_cos_dist=False, with_text=True):\n",
    "    for sim in bow_similarity(id, bag_of_words, use_cos_dist=use_cos_dist)[:10]:\n",
    "        idx = sim[0]\n",
    "        print(people['Name'][idx])\n",
    "        if with_text:\n",
    "            print(people['text'][idx][:400])\n",
    "        print(f\"similarity: {sim[1]}\")\n",
    "        print()"
   ]
  },
  {
   "cell_type": "markdown",
   "metadata": {},
   "source": [
    "### Schumacher"
   ]
  },
  {
   "cell_type": "code",
   "execution_count": 54,
   "metadata": {},
   "outputs": [
    {
     "name": "stdout",
     "output_type": "stream",
     "text": [
      "Wallenstein\n",
      "Wallenstein, eigentlich Albrecht Wenzel Eusebius von Waldstein, tschechisch Albrecht Václav Eusebius z Valdštejna (* 24. September 1583 in Hermanitz an der Elbe, Böhmen; † 25. Februar 1634 in Eger, Böhmen), war ein böhmischer Feldherr und Politiker. Er war Herzog von Friedland und Sagan, von 1628 bis 1631 als Albrecht VIII. Herzog zu Mecklenburg, Fürst zu Wenden, Graf von Schwerin, Herr von Rostoc\n",
      "similarity: 670.0\n",
      "\n",
      "Theobald von Bethmann Hollweg\n",
      "Theobald Theodor Friedrich Alfred von Bethmann Hollweg (* 29. November 1856 in Hohenfinow, Provinz Brandenburg; † 2. Januar 1921 ebenda) war ein deutscher Politiker in der Zeit des Kaiserreichs. Seine Karriere begann als Verwaltungsbeamter und gipfelte in der Amtszeit als Reichskanzler von 1909 bis 1917. Theobald von Bethmann Hollweg vertrat liberale Auffassungen und stand der Fortschrittlichen Vo\n",
      "similarity: 640.0\n",
      "\n",
      "Benjamin Franklin\n",
      "Benjamin Franklin (* 17. Januar 1706 in Boston, Massachusetts; † 17. April 1790 in Philadelphia, Pennsylvania) war ein amerikanischer Drucker, Verleger, Schriftsteller, Naturwissenschaftler, Erfinder und Staatsmann. Als einer der Gründerväter der Vereinigten Staaten beteiligte er sich am Entwurf der Unabhängigkeitserklärung der Vereinigten Staaten und war einer ihrer Unterzeichner. Während der Ame\n",
      "similarity: 627.0\n",
      "\n",
      "Herbert C. Hoover\n",
      "Herbert Clark Hoover (* 10. August 1874 in West Branch, Cedar County, Iowa; † 20. Oktober 1964 in New York City, New York) war ein US-amerikanischer Politiker und von 1929 bis 1933 der 31. Präsident der Vereinigten Staaten. Zuvor war er seit 1921 unter den Präsidenten Warren G. Harding und Calvin Coolidge Handelsminister gewesen. Hoovers Präsidentschaft war mit optimistischen Erwartungen verbunden\n",
      "similarity: 595.0\n",
      "\n",
      "Herbert Hoover\n",
      "Herbert Clark Hoover (* 10. August 1874 in West Branch, Cedar County, Iowa; † 20. Oktober 1964 in New York City, New York) war ein US-amerikanischer Politiker und von 1929 bis 1933 der 31. Präsident der Vereinigten Staaten. Zuvor war er seit 1921 unter den Präsidenten Warren G. Harding und Calvin Coolidge Handelsminister gewesen. Hoovers Präsidentschaft war mit optimistischen Erwartungen verbunden\n",
      "similarity: 595.0\n",
      "\n",
      "Florence Nightingale\n",
      "Florence Nightingale (* 12. Mai 1820 in Florenz, Großherzogtum Toskana; † 13. August 1910 in London, England) war eine Begründerin der modernen westlichen Krankenpflege und einflussreiche Reformerin des Sanitätswesens und der Gesundheitsfürsorge in Großbritannien und Britisch-Indien. Sie trug in Großbritannien und den zum Empire gehörenden Ländern wesentlich dazu bei, dass sich die Krankenpflege z\n",
      "similarity: 593.0\n",
      "\n",
      "George Washington\n",
      "George Washington [ˈwɒʃɪŋtən] (* 22. Februar 1732 auf dem Gutshof Wakefield (auch „Pope’s Plantation“ genannt) im Westmoreland County, Virginia; † 14. Dezember 1799 auf seinem Gut Mount Vernon, Virginia) war von 1789 bis 1797 der erste Präsident der Vereinigten Staaten von Amerika. Als Oberbefehlshaber der Kontinentalarmee von 1775 bis 1783 war er einer der Gründerväter der USA und leitete als Vor\n",
      "similarity: 586.0\n",
      "\n",
      "Fernando Alonso\n",
      "Vorlage:Infobox Formel-1-Fahrer/Wartung/Alte Parameter Fernando Alonso Díaz (* 29. Juli 1981 in Oviedo, Asturien) ist ein spanischer Automobilrennfahrer. Er startet seit 2001 in der Formel 1 und gewann dort 2005 und 2006 auf Renault die Weltmeisterschaft. Von 2010 bis 2014 startete Alonso für den italienischen Traditionsrennstall Ferrari, mit dem er 2010, 2012 und 2013 Vizeweltmeister wurde. 2007 \n",
      "similarity: 578.0\n",
      "\n",
      "Marlon Brando\n",
      "Marlon Brando, Jr. (* 3. April 1924 in Omaha, Nebraska; † 1. Juli 2004 in Los Angeles, Kalifornien) war ein amerikanischer Schauspieler. Er gilt als einer der bedeutendsten Charakterdarsteller der Filmgeschichte des 20. Jahrhunderts. Mit seinen Rollen in den Filmen Endstation Sehnsucht (1951) und Die Faust im Nacken (1954) verschaffte er der Schauspieltechnik des Method Acting weltweit Beachtung. \n",
      "similarity: 573.0\n",
      "\n",
      "Mahatma Gandhi\n",
      "Mohandas Karamchand Gandhi (Gujarati: મોહનદાસ કરમચંદ ગાંધી, Hindi: मोहनदास करमचंद गांधी Mohandās Karamchand Gāndhī; genannt Mahatma Gandhi; * 2. Oktober 1869 in Porbandar, Gujarat; † 30. Januar 1948 in Neu-Delhi, Delhi) war ein indischer Rechtsanwalt, Widerstandskämpfer, Revolutionär, Publizist, Morallehrer, Asket und Pazifist. Zu Beginn des 20. Jahrhunderts setzte sich Gandhi in Südafrika gegen d\n",
      "similarity: 573.0\n",
      "\n"
     ]
    }
   ],
   "source": [
    "# 3 Schumacher\n",
    "print_best_10(3, bag_of_words, use_cos_dist=False)"
   ]
  },
  {
   "cell_type": "markdown",
   "metadata": {},
   "source": [
    "## Einstein"
   ]
  },
  {
   "cell_type": "code",
   "execution_count": 55,
   "metadata": {},
   "outputs": [
    {
     "name": "stdout",
     "output_type": "stream",
     "text": [
      "Benjamin Franklin\n",
      "Benjamin Franklin (* 17. Januar 1706 in Boston, Massachusetts; † 17. April 1790 in Philadelphia, Pennsylvania) war ein amerikanischer Drucker, Verleger, Schriftsteller, Naturwissenschaftler, Erfinder und Staatsmann. Als einer der Gründerväter der Vereinigten Staaten beteiligte er sich am Entwurf der Unabhängigkeitserklärung der Vereinigten Staaten und war einer ihrer Unterzeichner. Während der Ame\n",
      "similarity: 507.0\n",
      "\n",
      "Theobald von Bethmann Hollweg\n",
      "Theobald Theodor Friedrich Alfred von Bethmann Hollweg (* 29. November 1856 in Hohenfinow, Provinz Brandenburg; † 2. Januar 1921 ebenda) war ein deutscher Politiker in der Zeit des Kaiserreichs. Seine Karriere begann als Verwaltungsbeamter und gipfelte in der Amtszeit als Reichskanzler von 1909 bis 1917. Theobald von Bethmann Hollweg vertrat liberale Auffassungen und stand der Fortschrittlichen Vo\n",
      "similarity: 506.0\n",
      "\n",
      "Wallenstein\n",
      "Wallenstein, eigentlich Albrecht Wenzel Eusebius von Waldstein, tschechisch Albrecht Václav Eusebius z Valdštejna (* 24. September 1583 in Hermanitz an der Elbe, Böhmen; † 25. Februar 1634 in Eger, Böhmen), war ein böhmischer Feldherr und Politiker. Er war Herzog von Friedland und Sagan, von 1628 bis 1631 als Albrecht VIII. Herzog zu Mecklenburg, Fürst zu Wenden, Graf von Schwerin, Herr von Rostoc\n",
      "similarity: 488.0\n",
      "\n",
      "Max Liebermann\n",
      "Max Liebermann (* 20. Juli 1847 in Berlin; † 8. Februar 1935 ebenda) war ein deutscher Maler und Grafiker. Er gehört zu den bedeutendsten Vertretern des deutschen Impressionismus. Nach einer Ausbildung in Weimar und Aufenthalten in Paris und den Niederlanden schuf er zunächst naturalistische Werke mit sozialer Thematik. Durch die Beschäftigung mit den französischen Impressionisten fand er seit 188\n",
      "similarity: 487.0\n",
      "\n",
      "Florence Nightingale\n",
      "Florence Nightingale (* 12. Mai 1820 in Florenz, Großherzogtum Toskana; † 13. August 1910 in London, England) war eine Begründerin der modernen westlichen Krankenpflege und einflussreiche Reformerin des Sanitätswesens und der Gesundheitsfürsorge in Großbritannien und Britisch-Indien. Sie trug in Großbritannien und den zum Empire gehörenden Ländern wesentlich dazu bei, dass sich die Krankenpflege z\n",
      "similarity: 486.0\n",
      "\n",
      "Franz Wilhelm Junghuhn\n",
      "Franz Wilhelm Junghuhn (* 26. Oktober 1809 in Mansfeld; † 24. April 1864 in Lembang auf Java) war ein deutscher Arzt, Geologe, Botaniker und Landvermesser. Seine naturwissenschaftlichen Forschungs- und Entdeckungsreisen unternahm er im damaligen Niederländisch-Indien bzw. im heutigen Indonesien. Die bedeutendste Leistung dieses „größten deutschen Forschers auf malaiischem Boden“ war die erste grün\n",
      "similarity: 475.0\n",
      "\n",
      "Herbert C. Hoover\n",
      "Herbert Clark Hoover (* 10. August 1874 in West Branch, Cedar County, Iowa; † 20. Oktober 1964 in New York City, New York) war ein US-amerikanischer Politiker und von 1929 bis 1933 der 31. Präsident der Vereinigten Staaten. Zuvor war er seit 1921 unter den Präsidenten Warren G. Harding und Calvin Coolidge Handelsminister gewesen. Hoovers Präsidentschaft war mit optimistischen Erwartungen verbunden\n",
      "similarity: 470.0\n",
      "\n",
      "Herbert Hoover\n",
      "Herbert Clark Hoover (* 10. August 1874 in West Branch, Cedar County, Iowa; † 20. Oktober 1964 in New York City, New York) war ein US-amerikanischer Politiker und von 1929 bis 1933 der 31. Präsident der Vereinigten Staaten. Zuvor war er seit 1921 unter den Präsidenten Warren G. Harding und Calvin Coolidge Handelsminister gewesen. Hoovers Präsidentschaft war mit optimistischen Erwartungen verbunden\n",
      "similarity: 470.0\n",
      "\n",
      "Mahatma Gandhi\n",
      "Mohandas Karamchand Gandhi (Gujarati: મોહનદાસ કરમચંદ ગાંધી, Hindi: मोहनदास करमचंद गांधी Mohandās Karamchand Gāndhī; genannt Mahatma Gandhi; * 2. Oktober 1869 in Porbandar, Gujarat; † 30. Januar 1948 in Neu-Delhi, Delhi) war ein indischer Rechtsanwalt, Widerstandskämpfer, Revolutionär, Publizist, Morallehrer, Asket und Pazifist. Zu Beginn des 20. Jahrhunderts setzte sich Gandhi in Südafrika gegen d\n",
      "similarity: 466.0\n",
      "\n",
      "Mohandas Karamchand Gandhi\n",
      "Mohandas Karamchand Gandhi (Gujarati: મોહનદાસ કરમચંદ ગાંધી, Hindi: मोहनदास करमचंद गांधी Mohandās Karamchand Gāndhī; genannt Mahatma Gandhi; * 2. Oktober 1869 in Porbandar, Gujarat; † 30. Januar 1948 in Neu-Delhi, Delhi) war ein indischer Rechtsanwalt, Widerstandskämpfer, Revolutionär, Publizist, Morallehrer, Asket und Pazifist. Zu Beginn des 20. Jahrhunderts setzte sich Gandhi in Südafrika gegen d\n",
      "similarity: 466.0\n",
      "\n"
     ]
    }
   ],
   "source": [
    "# 215 Einstein\n",
    "print_best_10(215, bag_of_words, use_cos_dist=False)"
   ]
  },
  {
   "cell_type": "markdown",
   "metadata": {},
   "source": [
    "## Jackson"
   ]
  },
  {
   "cell_type": "code",
   "execution_count": 56,
   "metadata": {},
   "outputs": [
    {
     "name": "stdout",
     "output_type": "stream",
     "text": [
      "Mahatma Gandhi\n",
      "Mohandas Karamchand Gandhi (Gujarati: મોહનદાસ કરમચંદ ગાંધી, Hindi: मोहनदास करमचंद गांधी Mohandās Karamchand Gāndhī; genannt Mahatma Gandhi; * 2. Oktober 1869 in Porbandar, Gujarat; † 30. Januar 1948 in Neu-Delhi, Delhi) war ein indischer Rechtsanwalt, Widerstandskämpfer, Revolutionär, Publizist, Morallehrer, Asket und Pazifist. Zu Beginn des 20. Jahrhunderts setzte sich Gandhi in Südafrika gegen d\n",
      "similarity: 286.0\n",
      "\n",
      "Mohandas Karamchand Gandhi\n",
      "Mohandas Karamchand Gandhi (Gujarati: મોહનદાસ કરમચંદ ગાંધી, Hindi: मोहनदास करमचंद गांधी Mohandās Karamchand Gāndhī; genannt Mahatma Gandhi; * 2. Oktober 1869 in Porbandar, Gujarat; † 30. Januar 1948 in Neu-Delhi, Delhi) war ein indischer Rechtsanwalt, Widerstandskämpfer, Revolutionär, Publizist, Morallehrer, Asket und Pazifist. Zu Beginn des 20. Jahrhunderts setzte sich Gandhi in Südafrika gegen d\n",
      "similarity: 286.0\n",
      "\n",
      "Marlon Brando\n",
      "Marlon Brando, Jr. (* 3. April 1924 in Omaha, Nebraska; † 1. Juli 2004 in Los Angeles, Kalifornien) war ein amerikanischer Schauspieler. Er gilt als einer der bedeutendsten Charakterdarsteller der Filmgeschichte des 20. Jahrhunderts. Mit seinen Rollen in den Filmen Endstation Sehnsucht (1951) und Die Faust im Nacken (1954) verschaffte er der Schauspieltechnik des Method Acting weltweit Beachtung. \n",
      "similarity: 283.0\n",
      "\n",
      "Wallenstein\n",
      "Wallenstein, eigentlich Albrecht Wenzel Eusebius von Waldstein, tschechisch Albrecht Václav Eusebius z Valdštejna (* 24. September 1583 in Hermanitz an der Elbe, Böhmen; † 25. Februar 1634 in Eger, Böhmen), war ein böhmischer Feldherr und Politiker. Er war Herzog von Friedland und Sagan, von 1628 bis 1631 als Albrecht VIII. Herzog zu Mecklenburg, Fürst zu Wenden, Graf von Schwerin, Herr von Rostoc\n",
      "similarity: 276.0\n",
      "\n",
      "Michael Schumacher\n",
      "Vorlage:Infobox Formel-1-Fahrer/Wartung/Alte Parameter Michael Schumacher (* 3. Januar 1969 in Hürth-Hermülheim, Nordrhein-Westfalen) ist ein ehemaliger deutscher Automobilrennfahrer. Schumacher startete von 1991 bis 2006 sowie von 2010 bis 2012 zu insgesamt 307 Großen Preisen der Formel-1-Weltmeisterschaft. Mit sieben Weltmeistertiteln, 91 Siegen, 68 Pole-Positions und 77 schnellsten Rennrunden i\n",
      "similarity: 276.0\n",
      "\n",
      "Benjamin Franklin\n",
      "Benjamin Franklin (* 17. Januar 1706 in Boston, Massachusetts; † 17. April 1790 in Philadelphia, Pennsylvania) war ein amerikanischer Drucker, Verleger, Schriftsteller, Naturwissenschaftler, Erfinder und Staatsmann. Als einer der Gründerväter der Vereinigten Staaten beteiligte er sich am Entwurf der Unabhängigkeitserklärung der Vereinigten Staaten und war einer ihrer Unterzeichner. Während der Ame\n",
      "similarity: 269.0\n",
      "\n",
      "George Washington\n",
      "George Washington [ˈwɒʃɪŋtən] (* 22. Februar 1732 auf dem Gutshof Wakefield (auch „Pope’s Plantation“ genannt) im Westmoreland County, Virginia; † 14. Dezember 1799 auf seinem Gut Mount Vernon, Virginia) war von 1789 bis 1797 der erste Präsident der Vereinigten Staaten von Amerika. Als Oberbefehlshaber der Kontinentalarmee von 1775 bis 1783 war er einer der Gründerväter der USA und leitete als Vor\n",
      "similarity: 267.0\n",
      "\n",
      "Herbert C. Hoover\n",
      "Herbert Clark Hoover (* 10. August 1874 in West Branch, Cedar County, Iowa; † 20. Oktober 1964 in New York City, New York) war ein US-amerikanischer Politiker und von 1929 bis 1933 der 31. Präsident der Vereinigten Staaten. Zuvor war er seit 1921 unter den Präsidenten Warren G. Harding und Calvin Coolidge Handelsminister gewesen. Hoovers Präsidentschaft war mit optimistischen Erwartungen verbunden\n",
      "similarity: 266.0\n",
      "\n",
      "Herbert Hoover\n",
      "Herbert Clark Hoover (* 10. August 1874 in West Branch, Cedar County, Iowa; † 20. Oktober 1964 in New York City, New York) war ein US-amerikanischer Politiker und von 1929 bis 1933 der 31. Präsident der Vereinigten Staaten. Zuvor war er seit 1921 unter den Präsidenten Warren G. Harding und Calvin Coolidge Handelsminister gewesen. Hoovers Präsidentschaft war mit optimistischen Erwartungen verbunden\n",
      "similarity: 266.0\n",
      "\n",
      "Maria I. (England)\n",
      "Maria I. Tudor (englisch Mary Tudor), auch Maria die Katholische oder Maria die Blutige (* 18. Februar 1516 in Greenwich; † 17. November 1558 im St James’s Palace), war von 1553 bis 1558 Königin von England und Irland und der vierte Monarch des Hauses Tudor. Sie war die Tochter des Königs Heinrichs VIII. und seiner ersten Frau Katharina von Aragon. Als ihr Vater die Ehe vom englischen Klerus für n\n",
      "similarity: 266.0\n",
      "\n"
     ]
    }
   ],
   "source": [
    "# 1951 Jackson\n",
    "print_best_10(1951, bag_of_words, use_cos_dist=False)"
   ]
  },
  {
   "cell_type": "markdown",
   "metadata": {},
   "source": [
    "# 3) Bag of Words without stop words"
   ]
  },
  {
   "cell_type": "code",
   "execution_count": 15,
   "metadata": {},
   "outputs": [],
   "source": [
    "stopwords = set()\n",
    "with open(\"GermanST.txt\", \"r\") as f:\n",
    "    stopwords = set(f.readlines())"
   ]
  },
  {
   "cell_type": "code",
   "execution_count": 46,
   "metadata": {},
   "outputs": [],
   "source": [
    "word_count = 0\n",
    "word_index_ws = {}\n",
    "\n",
    "i = 0\n",
    "for text in people['text']:\n",
    "    for word in nltk.word_tokenize(str(text.encode('utf8'))):\n",
    "        if not word.isalpha(): continue\n",
    "        w = stem.stem(word.lower())\n",
    "        if w in stopwords : continue\n",
    "        word_dict[w] += 1\n",
    "        word_count += 1\n",
    "        if w not in word_index_ws:\n",
    "            word_index_ws[w] = i\n",
    "            i += 1"
   ]
  },
  {
   "cell_type": "code",
   "execution_count": 47,
   "metadata": {},
   "outputs": [
    {
     "name": "stdout",
     "output_type": "stream",
     "text": [
      "(10000, 222679)\n"
     ]
    }
   ],
   "source": [
    "bag_of_words_ws = lil_matrix((len(people['text']), len(word_index_ws)))\n",
    "print(bag_of_words_ws.shape)\n",
    "\n",
    "for i, text in enumerate(people['text']):\n",
    "    for word in nltk.word_tokenize(str(text.encode('utf8'))):\n",
    "        if not word.isalpha(): continue\n",
    "        w = stem.stem(word.lower())\n",
    "        if w in stopwords : continue\n",
    "        idx = word_index_ws[w]\n",
    "        bag_of_words_ws[i, idx] = 1"
   ]
  },
  {
   "cell_type": "markdown",
   "metadata": {},
   "source": [
    "## Schumacher"
   ]
  },
  {
   "cell_type": "code",
   "execution_count": 57,
   "metadata": {},
   "outputs": [
    {
     "name": "stdout",
     "output_type": "stream",
     "text": [
      "Wallenstein\n",
      "Wallenstein, eigentlich Albrecht Wenzel Eusebius von Waldstein, tschechisch Albrecht Václav Eusebius z Valdštejna (* 24. September 1583 in Hermanitz an der Elbe, Böhmen; † 25. Februar 1634 in Eger, Böhmen), war ein böhmischer Feldherr und Politiker. Er war Herzog von Friedland und Sagan, von 1628 bis 1631 als Albrecht VIII. Herzog zu Mecklenburg, Fürst zu Wenden, Graf von Schwerin, Herr von Rostoc\n",
      "similarity: 670.0\n",
      "\n",
      "Theobald von Bethmann Hollweg\n",
      "Theobald Theodor Friedrich Alfred von Bethmann Hollweg (* 29. November 1856 in Hohenfinow, Provinz Brandenburg; † 2. Januar 1921 ebenda) war ein deutscher Politiker in der Zeit des Kaiserreichs. Seine Karriere begann als Verwaltungsbeamter und gipfelte in der Amtszeit als Reichskanzler von 1909 bis 1917. Theobald von Bethmann Hollweg vertrat liberale Auffassungen und stand der Fortschrittlichen Vo\n",
      "similarity: 640.0\n",
      "\n",
      "Benjamin Franklin\n",
      "Benjamin Franklin (* 17. Januar 1706 in Boston, Massachusetts; † 17. April 1790 in Philadelphia, Pennsylvania) war ein amerikanischer Drucker, Verleger, Schriftsteller, Naturwissenschaftler, Erfinder und Staatsmann. Als einer der Gründerväter der Vereinigten Staaten beteiligte er sich am Entwurf der Unabhängigkeitserklärung der Vereinigten Staaten und war einer ihrer Unterzeichner. Während der Ame\n",
      "similarity: 627.0\n",
      "\n",
      "Herbert C. Hoover\n",
      "Herbert Clark Hoover (* 10. August 1874 in West Branch, Cedar County, Iowa; † 20. Oktober 1964 in New York City, New York) war ein US-amerikanischer Politiker und von 1929 bis 1933 der 31. Präsident der Vereinigten Staaten. Zuvor war er seit 1921 unter den Präsidenten Warren G. Harding und Calvin Coolidge Handelsminister gewesen. Hoovers Präsidentschaft war mit optimistischen Erwartungen verbunden\n",
      "similarity: 595.0\n",
      "\n",
      "Herbert Hoover\n",
      "Herbert Clark Hoover (* 10. August 1874 in West Branch, Cedar County, Iowa; † 20. Oktober 1964 in New York City, New York) war ein US-amerikanischer Politiker und von 1929 bis 1933 der 31. Präsident der Vereinigten Staaten. Zuvor war er seit 1921 unter den Präsidenten Warren G. Harding und Calvin Coolidge Handelsminister gewesen. Hoovers Präsidentschaft war mit optimistischen Erwartungen verbunden\n",
      "similarity: 595.0\n",
      "\n",
      "Florence Nightingale\n",
      "Florence Nightingale (* 12. Mai 1820 in Florenz, Großherzogtum Toskana; † 13. August 1910 in London, England) war eine Begründerin der modernen westlichen Krankenpflege und einflussreiche Reformerin des Sanitätswesens und der Gesundheitsfürsorge in Großbritannien und Britisch-Indien. Sie trug in Großbritannien und den zum Empire gehörenden Ländern wesentlich dazu bei, dass sich die Krankenpflege z\n",
      "similarity: 593.0\n",
      "\n",
      "George Washington\n",
      "George Washington [ˈwɒʃɪŋtən] (* 22. Februar 1732 auf dem Gutshof Wakefield (auch „Pope’s Plantation“ genannt) im Westmoreland County, Virginia; † 14. Dezember 1799 auf seinem Gut Mount Vernon, Virginia) war von 1789 bis 1797 der erste Präsident der Vereinigten Staaten von Amerika. Als Oberbefehlshaber der Kontinentalarmee von 1775 bis 1783 war er einer der Gründerväter der USA und leitete als Vor\n",
      "similarity: 586.0\n",
      "\n",
      "Fernando Alonso\n",
      "Vorlage:Infobox Formel-1-Fahrer/Wartung/Alte Parameter Fernando Alonso Díaz (* 29. Juli 1981 in Oviedo, Asturien) ist ein spanischer Automobilrennfahrer. Er startet seit 2001 in der Formel 1 und gewann dort 2005 und 2006 auf Renault die Weltmeisterschaft. Von 2010 bis 2014 startete Alonso für den italienischen Traditionsrennstall Ferrari, mit dem er 2010, 2012 und 2013 Vizeweltmeister wurde. 2007 \n",
      "similarity: 578.0\n",
      "\n",
      "Marlon Brando\n",
      "Marlon Brando, Jr. (* 3. April 1924 in Omaha, Nebraska; † 1. Juli 2004 in Los Angeles, Kalifornien) war ein amerikanischer Schauspieler. Er gilt als einer der bedeutendsten Charakterdarsteller der Filmgeschichte des 20. Jahrhunderts. Mit seinen Rollen in den Filmen Endstation Sehnsucht (1951) und Die Faust im Nacken (1954) verschaffte er der Schauspieltechnik des Method Acting weltweit Beachtung. \n",
      "similarity: 573.0\n",
      "\n",
      "Mahatma Gandhi\n",
      "Mohandas Karamchand Gandhi (Gujarati: મોહનદાસ કરમચંદ ગાંધી, Hindi: मोहनदास करमचंद गांधी Mohandās Karamchand Gāndhī; genannt Mahatma Gandhi; * 2. Oktober 1869 in Porbandar, Gujarat; † 30. Januar 1948 in Neu-Delhi, Delhi) war ein indischer Rechtsanwalt, Widerstandskämpfer, Revolutionär, Publizist, Morallehrer, Asket und Pazifist. Zu Beginn des 20. Jahrhunderts setzte sich Gandhi in Südafrika gegen d\n",
      "similarity: 573.0\n",
      "\n"
     ]
    }
   ],
   "source": [
    "# 3 Schumacher\n",
    "print_best_10(3, bag_of_words_ws, use_cos_dist=False)"
   ]
  },
  {
   "cell_type": "markdown",
   "metadata": {},
   "source": [
    "## Einstein"
   ]
  },
  {
   "cell_type": "code",
   "execution_count": 49,
   "metadata": {},
   "outputs": [
    {
     "name": "stdout",
     "output_type": "stream",
     "text": [
      "Benjamin Franklin\n",
      "Benjamin Franklin (* 17. Januar 1706 in Boston, Massachusetts; † 17. April 1790 in Philadelphia, Pennsylvania) war ein amerikanischer Drucker, Verleger, Schriftsteller, Naturwissenschaftler, Erfinder und Staatsmann. Als einer der Gründerväter der Vereinigten Staaten beteiligte er sich am Entwurf der Unabhängigkeitserklärung der Vereinigten Staaten und war einer ihrer Unterzeichner. Während der Amerikanischen Revolution vertrat er die Vereinigten Staaten als Diplomat in Frankreich und handelte sowohl den Allianzvertrag mit den Franzosen als auch den Frieden von Paris aus, der den Amerikanischen\n",
      "similarity: 507.0\n",
      "\n",
      "Theobald von Bethmann Hollweg\n",
      "Theobald Theodor Friedrich Alfred von Bethmann Hollweg (* 29. November 1856 in Hohenfinow, Provinz Brandenburg; † 2. Januar 1921 ebenda) war ein deutscher Politiker in der Zeit des Kaiserreichs. Seine Karriere begann als Verwaltungsbeamter und gipfelte in der Amtszeit als Reichskanzler von 1909 bis 1917. Theobald von Bethmann Hollweg vertrat liberale Auffassungen und stand der Fortschrittlichen Volkspartei nahe. Er bemühte sich als überparteilicher Kanzler um einen Ausgleich zwischen Sozialdemokratie und Konservatismus (Politik der Diagonalen, Burgfriedenspolitik). Dieses Ansinnen brachte ihm \n",
      "similarity: 506.0\n",
      "\n",
      "Wallenstein\n",
      "Wallenstein, eigentlich Albrecht Wenzel Eusebius von Waldstein, tschechisch Albrecht Václav Eusebius z Valdštejna (* 24. September 1583 in Hermanitz an der Elbe, Böhmen; † 25. Februar 1634 in Eger, Böhmen), war ein böhmischer Feldherr und Politiker. Er war Herzog von Friedland und Sagan, von 1628 bis 1631 als Albrecht VIII. Herzog zu Mecklenburg, Fürst zu Wenden, Graf von Schwerin, Herr von Rostock, Herr von Stargard und als Generalissimus zwischen 1625 und 1634 zweimal Oberbefehlshaber der kaiserlichen Armee im Dreißigjährigen Krieg. Er kämpfte auf Seiten des Kaisers und der Katholischen Liga\n",
      "similarity: 488.0\n",
      "\n",
      "Max Liebermann\n",
      "Max Liebermann (* 20. Juli 1847 in Berlin; † 8. Februar 1935 ebenda) war ein deutscher Maler und Grafiker. Er gehört zu den bedeutendsten Vertretern des deutschen Impressionismus. Nach einer Ausbildung in Weimar und Aufenthalten in Paris und den Niederlanden schuf er zunächst naturalistische Werke mit sozialer Thematik. Durch die Beschäftigung mit den französischen Impressionisten fand er seit 1880 zu einer lichten Farbigkeit und einem schwungvollen Farbauftrag, der sein Hauptwerk prägt. Sein Schaffen steht symbolisch für den Übergang von der Kunst des 19. Jahrhunderts hin zur Klassischen Mode\n",
      "similarity: 487.0\n",
      "\n",
      "Florence Nightingale\n",
      "Florence Nightingale (* 12. Mai 1820 in Florenz, Großherzogtum Toskana; † 13. August 1910 in London, England) war eine Begründerin der modernen westlichen Krankenpflege und einflussreiche Reformerin des Sanitätswesens und der Gesundheitsfürsorge in Großbritannien und Britisch-Indien. Sie trug in Großbritannien und den zum Empire gehörenden Ländern wesentlich dazu bei, dass sich die Krankenpflege zu einem gesellschaftlich geachteten und anerkannten Berufsweg für Frauen entwickelte, und legte Ausbildungsstandards fest, die zuerst in der von ihr gegründeten Krankenpflegeschule umgesetzt wurden.  \n",
      "similarity: 486.0\n",
      "\n",
      "Franz Wilhelm Junghuhn\n",
      "Franz Wilhelm Junghuhn (* 26. Oktober 1809 in Mansfeld; † 24. April 1864 in Lembang auf Java) war ein deutscher Arzt, Geologe, Botaniker und Landvermesser. Seine naturwissenschaftlichen Forschungs- und Entdeckungsreisen unternahm er im damaligen Niederländisch-Indien bzw. im heutigen Indonesien. Die bedeutendste Leistung dieses „größten deutschen Forschers auf malaiischem Boden“ war die erste gründliche geographische, geologische und botanische Erforschung der Insel Java. Von bleibendem Wert ist sein darüber verfasstes, an Stoffmenge überbordendes Hauptwerk Java, seine Gestalt, Pflanzendecke u\n",
      "similarity: 475.0\n",
      "\n",
      "Herbert C. Hoover\n",
      "Herbert Clark Hoover (* 10. August 1874 in West Branch, Cedar County, Iowa; † 20. Oktober 1964 in New York City, New York) war ein US-amerikanischer Politiker und von 1929 bis 1933 der 31. Präsident der Vereinigten Staaten. Zuvor war er seit 1921 unter den Präsidenten Warren G. Harding und Calvin Coolidge Handelsminister gewesen. Hoovers Präsidentschaft war mit optimistischen Erwartungen verbunden gewesen, welche durch die Weltwirtschaftskrise und die sprichwörtlichen Hoovervilles ein Ende fanden. Er konnte mit seiner Politik der Great Depression nichts entgegensetzen. Als er aus dem Amt schie\n",
      "similarity: 470.0\n",
      "\n",
      "Herbert Hoover\n",
      "Herbert Clark Hoover (* 10. August 1874 in West Branch, Cedar County, Iowa; † 20. Oktober 1964 in New York City, New York) war ein US-amerikanischer Politiker und von 1929 bis 1933 der 31. Präsident der Vereinigten Staaten. Zuvor war er seit 1921 unter den Präsidenten Warren G. Harding und Calvin Coolidge Handelsminister gewesen. Hoovers Präsidentschaft war mit optimistischen Erwartungen verbunden gewesen, welche durch die Weltwirtschaftskrise und die sprichwörtlichen Hoovervilles ein Ende fanden. Er konnte mit seiner Politik der Great Depression nichts entgegensetzen. Als er aus dem Amt schie\n",
      "similarity: 470.0\n",
      "\n",
      "Mahatma Gandhi\n",
      "Mohandas Karamchand Gandhi (Gujarati: મોહનદાસ કરમચંદ ગાંધી, Hindi: मोहनदास करमचंद गांधी Mohandās Karamchand Gāndhī; genannt Mahatma Gandhi; * 2. Oktober 1869 in Porbandar, Gujarat; † 30. Januar 1948 in Neu-Delhi, Delhi) war ein indischer Rechtsanwalt, Widerstandskämpfer, Revolutionär, Publizist, Morallehrer, Asket und Pazifist. Zu Beginn des 20. Jahrhunderts setzte sich Gandhi in Südafrika gegen die Rassentrennung und für die Gleichberechtigung der Inder ein. Danach entwickelte er sich ab Ende der 1910er Jahre in Indien zum politischen und geistigen Anführer der indischen Unabhängigkeitsbewegu\n",
      "similarity: 466.0\n",
      "\n",
      "Mohandas Karamchand Gandhi\n",
      "Mohandas Karamchand Gandhi (Gujarati: મોહનદાસ કરમચંદ ગાંધી, Hindi: मोहनदास करमचंद गांधी Mohandās Karamchand Gāndhī; genannt Mahatma Gandhi; * 2. Oktober 1869 in Porbandar, Gujarat; † 30. Januar 1948 in Neu-Delhi, Delhi) war ein indischer Rechtsanwalt, Widerstandskämpfer, Revolutionär, Publizist, Morallehrer, Asket und Pazifist. Zu Beginn des 20. Jahrhunderts setzte sich Gandhi in Südafrika gegen die Rassentrennung und für die Gleichberechtigung der Inder ein. Danach entwickelte er sich ab Ende der 1910er Jahre in Indien zum politischen und geistigen Anführer der indischen Unabhängigkeitsbewegu\n",
      "similarity: 466.0\n",
      "\n"
     ]
    }
   ],
   "source": [
    "# 215 Einstein\n",
    "print_best_10(215, bag_of_words_ws, use_cos_dist=False)"
   ]
  },
  {
   "cell_type": "markdown",
   "metadata": {},
   "source": [
    "## Jackson"
   ]
  },
  {
   "cell_type": "code",
   "execution_count": 58,
   "metadata": {},
   "outputs": [
    {
     "name": "stdout",
     "output_type": "stream",
     "text": [
      "Mahatma Gandhi\n",
      "Mohandas Karamchand Gandhi (Gujarati: મોહનદાસ કરમચંદ ગાંધી, Hindi: मोहनदास करमचंद गांधी Mohandās Karamchand Gāndhī; genannt Mahatma Gandhi; * 2. Oktober 1869 in Porbandar, Gujarat; † 30. Januar 1948 in Neu-Delhi, Delhi) war ein indischer Rechtsanwalt, Widerstandskämpfer, Revolutionär, Publizist, Morallehrer, Asket und Pazifist. Zu Beginn des 20. Jahrhunderts setzte sich Gandhi in Südafrika gegen d\n",
      "similarity: 286.0\n",
      "\n",
      "Mohandas Karamchand Gandhi\n",
      "Mohandas Karamchand Gandhi (Gujarati: મોહનદાસ કરમચંદ ગાંધી, Hindi: मोहनदास करमचंद गांधी Mohandās Karamchand Gāndhī; genannt Mahatma Gandhi; * 2. Oktober 1869 in Porbandar, Gujarat; † 30. Januar 1948 in Neu-Delhi, Delhi) war ein indischer Rechtsanwalt, Widerstandskämpfer, Revolutionär, Publizist, Morallehrer, Asket und Pazifist. Zu Beginn des 20. Jahrhunderts setzte sich Gandhi in Südafrika gegen d\n",
      "similarity: 286.0\n",
      "\n",
      "Marlon Brando\n",
      "Marlon Brando, Jr. (* 3. April 1924 in Omaha, Nebraska; † 1. Juli 2004 in Los Angeles, Kalifornien) war ein amerikanischer Schauspieler. Er gilt als einer der bedeutendsten Charakterdarsteller der Filmgeschichte des 20. Jahrhunderts. Mit seinen Rollen in den Filmen Endstation Sehnsucht (1951) und Die Faust im Nacken (1954) verschaffte er der Schauspieltechnik des Method Acting weltweit Beachtung. \n",
      "similarity: 283.0\n",
      "\n",
      "Wallenstein\n",
      "Wallenstein, eigentlich Albrecht Wenzel Eusebius von Waldstein, tschechisch Albrecht Václav Eusebius z Valdštejna (* 24. September 1583 in Hermanitz an der Elbe, Böhmen; † 25. Februar 1634 in Eger, Böhmen), war ein böhmischer Feldherr und Politiker. Er war Herzog von Friedland und Sagan, von 1628 bis 1631 als Albrecht VIII. Herzog zu Mecklenburg, Fürst zu Wenden, Graf von Schwerin, Herr von Rostoc\n",
      "similarity: 276.0\n",
      "\n",
      "Michael Schumacher\n",
      "Vorlage:Infobox Formel-1-Fahrer/Wartung/Alte Parameter Michael Schumacher (* 3. Januar 1969 in Hürth-Hermülheim, Nordrhein-Westfalen) ist ein ehemaliger deutscher Automobilrennfahrer. Schumacher startete von 1991 bis 2006 sowie von 2010 bis 2012 zu insgesamt 307 Großen Preisen der Formel-1-Weltmeisterschaft. Mit sieben Weltmeistertiteln, 91 Siegen, 68 Pole-Positions und 77 schnellsten Rennrunden i\n",
      "similarity: 276.0\n",
      "\n",
      "Benjamin Franklin\n",
      "Benjamin Franklin (* 17. Januar 1706 in Boston, Massachusetts; † 17. April 1790 in Philadelphia, Pennsylvania) war ein amerikanischer Drucker, Verleger, Schriftsteller, Naturwissenschaftler, Erfinder und Staatsmann. Als einer der Gründerväter der Vereinigten Staaten beteiligte er sich am Entwurf der Unabhängigkeitserklärung der Vereinigten Staaten und war einer ihrer Unterzeichner. Während der Ame\n",
      "similarity: 269.0\n",
      "\n",
      "George Washington\n",
      "George Washington [ˈwɒʃɪŋtən] (* 22. Februar 1732 auf dem Gutshof Wakefield (auch „Pope’s Plantation“ genannt) im Westmoreland County, Virginia; † 14. Dezember 1799 auf seinem Gut Mount Vernon, Virginia) war von 1789 bis 1797 der erste Präsident der Vereinigten Staaten von Amerika. Als Oberbefehlshaber der Kontinentalarmee von 1775 bis 1783 war er einer der Gründerväter der USA und leitete als Vor\n",
      "similarity: 267.0\n",
      "\n",
      "Herbert C. Hoover\n",
      "Herbert Clark Hoover (* 10. August 1874 in West Branch, Cedar County, Iowa; † 20. Oktober 1964 in New York City, New York) war ein US-amerikanischer Politiker und von 1929 bis 1933 der 31. Präsident der Vereinigten Staaten. Zuvor war er seit 1921 unter den Präsidenten Warren G. Harding und Calvin Coolidge Handelsminister gewesen. Hoovers Präsidentschaft war mit optimistischen Erwartungen verbunden\n",
      "similarity: 266.0\n",
      "\n",
      "Herbert Hoover\n",
      "Herbert Clark Hoover (* 10. August 1874 in West Branch, Cedar County, Iowa; † 20. Oktober 1964 in New York City, New York) war ein US-amerikanischer Politiker und von 1929 bis 1933 der 31. Präsident der Vereinigten Staaten. Zuvor war er seit 1921 unter den Präsidenten Warren G. Harding und Calvin Coolidge Handelsminister gewesen. Hoovers Präsidentschaft war mit optimistischen Erwartungen verbunden\n",
      "similarity: 266.0\n",
      "\n",
      "Maria I. (England)\n",
      "Maria I. Tudor (englisch Mary Tudor), auch Maria die Katholische oder Maria die Blutige (* 18. Februar 1516 in Greenwich; † 17. November 1558 im St James’s Palace), war von 1553 bis 1558 Königin von England und Irland und der vierte Monarch des Hauses Tudor. Sie war die Tochter des Königs Heinrichs VIII. und seiner ersten Frau Katharina von Aragon. Als ihr Vater die Ehe vom englischen Klerus für n\n",
      "similarity: 266.0\n",
      "\n"
     ]
    }
   ],
   "source": [
    "# 1951 Jackson\n",
    "print_best_10(1951, bag_of_words_ws, use_cos_dist=False)"
   ]
  },
  {
   "cell_type": "markdown",
   "metadata": {},
   "source": [
    "# 4a) Term frequency without stop words"
   ]
  },
  {
   "cell_type": "code",
   "execution_count": 7,
   "metadata": {},
   "outputs": [],
   "source": [
    "def tf_idf(use_stopword=False, do_stem=False, idf=False):\n",
    "    word_dict = defaultdict(int)\n",
    "    word_count = 0\n",
    "    word_index = {}\n",
    "    num_docs = people.shape[0]\n",
    "    idf_dict = defaultdict(int)\n",
    "\n",
    "    i = 0\n",
    "    for text in people['text']:\n",
    "        ws = set()\n",
    "        for word in nltk.word_tokenize(str(text.encode('utf8'))):\n",
    "            if not word.isalpha(): continue\n",
    "            if stem:\n",
    "                word = stem.stem(word.lower())\n",
    "            if use_stopword and word in stopwords: continue\n",
    "            word_dict[word] += 1\n",
    "            word_count += 1\n",
    "            if word not in ws:\n",
    "                ws.add(word)\n",
    "            if word not in word_index:\n",
    "                word_index[word] = i\n",
    "                i += 1\n",
    "                \n",
    "        for w in ws:\n",
    "            idf_dict[w] += 1\n",
    "    \n",
    "    tfidf = lil_matrix((len(people['text']), len(word_index)))\n",
    "    print(tfidf.shape)\n",
    "\n",
    "    for i, text in enumerate(people['text']):\n",
    "        for word in nltk.word_tokenize(str(text.encode('utf8'))):\n",
    "            if not word.isalpha(): continue\n",
    "            if do_stem:\n",
    "                word = stem.stem(word.lower())\n",
    "            if use_stopword and word in stopwords: continue\n",
    "            idx = word_index[word]\n",
    "            if idf:\n",
    "                tfidf[i, idx] = word_dict[word] * (1 + math.log(num_docs/idf_dict[word]))\n",
    "            else:\n",
    "                tfidf[i, idx] = word_dict[word]\n",
    "    return tfidf"
   ]
  },
  {
   "cell_type": "code",
   "execution_count": null,
   "metadata": {},
   "outputs": [],
   "source": [
    "tfidf_ws = tf_idf(use_stopword=False, do_stem=False)\n",
    "\n",
    "# 3 Schumacher\n",
    "print(\"Schumacher\")\n",
    "print_best_10(3, bag_of_words_ws, use_cos_dist=False, with_text=False)\n",
    "print()\n",
    "\n",
    "# 215 Einstein\n",
    "print(\"Einstein\")\n",
    "print_best_10(215, bag_of_words_ws, use_cos_dist=False, with_text=False)\n",
    "print()\n",
    "\n",
    "# 1951 Jackson\n",
    "print(\"Jackson\")\n",
    "print_best_10(1951, bag_of_words_ws, use_cos_dist=False, with_text=False)"
   ]
  },
  {
   "cell_type": "markdown",
   "metadata": {},
   "source": [
    "# 4b) Term frequency without stop words and with stemming"
   ]
  },
  {
   "cell_type": "code",
   "execution_count": 70,
   "metadata": {},
   "outputs": [
    {
     "name": "stdout",
     "output_type": "stream",
     "text": [
      "(10000, 222679)\n",
      "Schumacher\n",
      "Wallenstein\n",
      "similarity: 670.0\n",
      "\n",
      "Theobald von Bethmann Hollweg\n",
      "similarity: 640.0\n",
      "\n",
      "Benjamin Franklin\n",
      "similarity: 627.0\n",
      "\n",
      "Herbert C. Hoover\n",
      "similarity: 595.0\n",
      "\n",
      "Herbert Hoover\n",
      "similarity: 595.0\n",
      "\n",
      "Florence Nightingale\n",
      "similarity: 593.0\n",
      "\n",
      "George Washington\n",
      "similarity: 586.0\n",
      "\n",
      "Fernando Alonso\n",
      "similarity: 578.0\n",
      "\n",
      "Marlon Brando\n",
      "similarity: 573.0\n",
      "\n",
      "Mahatma Gandhi\n",
      "similarity: 573.0\n",
      "\n",
      "\n",
      "Einstein\n",
      "Benjamin Franklin\n",
      "similarity: 507.0\n",
      "\n",
      "Theobald von Bethmann Hollweg\n",
      "similarity: 506.0\n",
      "\n",
      "Wallenstein\n",
      "similarity: 488.0\n",
      "\n",
      "Max Liebermann\n",
      "similarity: 487.0\n",
      "\n",
      "Florence Nightingale\n",
      "similarity: 486.0\n",
      "\n",
      "Franz Wilhelm Junghuhn\n",
      "similarity: 475.0\n",
      "\n",
      "Herbert C. Hoover\n",
      "similarity: 470.0\n",
      "\n",
      "Herbert Hoover\n",
      "similarity: 470.0\n",
      "\n",
      "Mahatma Gandhi\n",
      "similarity: 466.0\n",
      "\n",
      "Mohandas Karamchand Gandhi\n",
      "similarity: 466.0\n",
      "\n",
      "\n",
      "Jackson\n",
      "Mahatma Gandhi\n",
      "similarity: 286.0\n",
      "\n",
      "Mohandas Karamchand Gandhi\n",
      "similarity: 286.0\n",
      "\n",
      "Marlon Brando\n",
      "similarity: 283.0\n",
      "\n",
      "Wallenstein\n",
      "similarity: 276.0\n",
      "\n",
      "Michael Schumacher\n",
      "similarity: 276.0\n",
      "\n",
      "Benjamin Franklin\n",
      "similarity: 269.0\n",
      "\n",
      "George Washington\n",
      "similarity: 267.0\n",
      "\n",
      "Herbert C. Hoover\n",
      "similarity: 266.0\n",
      "\n",
      "Herbert Hoover\n",
      "similarity: 266.0\n",
      "\n",
      "Maria I. (England)\n",
      "similarity: 266.0\n",
      "\n"
     ]
    }
   ],
   "source": [
    "tfidf_ws = tf_idf(use_stopword=False, do_stem=True)\n",
    "\n",
    "# 3 Schumacher\n",
    "print(\"Schumacher\")\n",
    "print_best_10(3, tfidf_ws, use_cos_dist=False, with_text=False)\n",
    "print()\n",
    "\n",
    "# 215 Einstein\n",
    "print(\"Einstein\")\n",
    "print_best_10(215, tfidf_ws, use_cos_dist=False, with_text=False)\n",
    "print()\n",
    "\n",
    "# 1951 Jackson\n",
    "print(\"Jackson\")\n",
    "print_best_10(1951, tfidf_ws, use_cos_dist=False, with_text=False)"
   ]
  },
  {
   "cell_type": "markdown",
   "metadata": {},
   "source": [
    "# 4c) Term frequency, stopped, stemmed and Cosine Similarity"
   ]
  },
  {
   "cell_type": "code",
   "execution_count": 72,
   "metadata": {},
   "outputs": [
    {
     "name": "stdout",
     "output_type": "stream",
     "text": [
      "(10000, 222679)\n",
      "Schumacher\n",
      "Wallenstein\n",
      "similarity: 670.0\n",
      "\n",
      "Theobald von Bethmann Hollweg\n",
      "similarity: 640.0\n",
      "\n",
      "Benjamin Franklin\n",
      "similarity: 627.0\n",
      "\n",
      "Herbert C. Hoover\n",
      "similarity: 595.0\n",
      "\n",
      "Herbert Hoover\n",
      "similarity: 595.0\n",
      "\n",
      "Florence Nightingale\n",
      "similarity: 593.0\n",
      "\n",
      "George Washington\n",
      "similarity: 586.0\n",
      "\n",
      "Fernando Alonso\n",
      "similarity: 578.0\n",
      "\n",
      "Marlon Brando\n",
      "similarity: 573.0\n",
      "\n",
      "Mahatma Gandhi\n",
      "similarity: 573.0\n",
      "\n",
      "\n",
      "Einstein\n",
      "Benjamin Franklin\n",
      "similarity: 507.0\n",
      "\n",
      "Theobald von Bethmann Hollweg\n",
      "similarity: 506.0\n",
      "\n",
      "Wallenstein\n",
      "similarity: 488.0\n",
      "\n",
      "Max Liebermann\n",
      "similarity: 487.0\n",
      "\n",
      "Florence Nightingale\n",
      "similarity: 486.0\n",
      "\n",
      "Franz Wilhelm Junghuhn\n",
      "similarity: 475.0\n",
      "\n",
      "Herbert C. Hoover\n",
      "similarity: 470.0\n",
      "\n",
      "Herbert Hoover\n",
      "similarity: 470.0\n",
      "\n",
      "Mahatma Gandhi\n",
      "similarity: 466.0\n",
      "\n",
      "Mohandas Karamchand Gandhi\n",
      "similarity: 466.0\n",
      "\n",
      "\n",
      "Jackson\n",
      "Mahatma Gandhi\n",
      "similarity: 286.0\n",
      "\n",
      "Mohandas Karamchand Gandhi\n",
      "similarity: 286.0\n",
      "\n",
      "Marlon Brando\n",
      "similarity: 283.0\n",
      "\n",
      "Wallenstein\n",
      "similarity: 276.0\n",
      "\n",
      "Michael Schumacher\n",
      "similarity: 276.0\n",
      "\n",
      "Benjamin Franklin\n",
      "similarity: 269.0\n",
      "\n",
      "George Washington\n",
      "similarity: 267.0\n",
      "\n",
      "Herbert C. Hoover\n",
      "similarity: 266.0\n",
      "\n",
      "Herbert Hoover\n",
      "similarity: 266.0\n",
      "\n",
      "Maria I. (England)\n",
      "similarity: 266.0\n",
      "\n"
     ]
    }
   ],
   "source": [
    "tfidf_ss = tf_idf(use_stopword=True, do_stem=True)"
   ]
  },
  {
   "cell_type": "code",
   "execution_count": 102,
   "metadata": {},
   "outputs": [
    {
     "name": "stdout",
     "output_type": "stream",
     "text": [
      "Schumacher\n",
      "Fernando Alonso\n",
      "similarity: 0.43259498462741586\n",
      "\n",
      "Lewis Hamilton\n",
      "similarity: 0.4232073155611383\n",
      "\n",
      "Sebastian Vettel\n",
      "similarity: 0.4125359134686056\n",
      "\n",
      "Kimi Räikkönen\n",
      "similarity: 0.40856511143695723\n",
      "\n",
      "Rubens Barrichello\n",
      "similarity: 0.398411126073899\n",
      "\n",
      "Heinz-Harald Frentzen\n",
      "similarity: 0.3771030394627472\n",
      "\n",
      "Alain Prost\n",
      "similarity: 0.37290592139973916\n",
      "\n",
      "Jacques Villeneuve\n",
      "similarity: 0.3726410297274071\n",
      "\n",
      "Jenson Button\n",
      "similarity: 0.3701953270703065\n",
      "\n",
      "Ayrton Senna\n",
      "similarity: 0.36559549849420114\n",
      "\n",
      "\n",
      "Einstein\n",
      "Max Planck\n",
      "similarity: 0.3676940979460488\n",
      "\n",
      "David Hilbert\n",
      "similarity: 0.33990370886414417\n",
      "\n",
      "Percy Ernst Schramm\n",
      "similarity: 0.33788731616043205\n",
      "\n",
      "Wolfgang Pauli\n",
      "similarity: 0.33726860771514705\n",
      "\n",
      "Otto Hahn\n",
      "similarity: 0.33703622530055394\n",
      "\n",
      "Karl Jaspers\n",
      "similarity: 0.3332119048446101\n",
      "\n",
      "Johannes Haller\n",
      "similarity: 0.33083422944083657\n",
      "\n",
      "Karl Hampe (Historiker)\n",
      "similarity: 0.33023297820961706\n",
      "\n",
      "Bertrand Russell\n",
      "similarity: 0.32938081968297833\n",
      "\n",
      "Max Frisch\n",
      "similarity: 0.32827254428793357\n",
      "\n",
      "\n",
      "Jackson\n",
      "Eminem\n",
      "similarity: 0.3040370509964669\n",
      "\n",
      "George Michael\n",
      "similarity: 0.2955625644026939\n",
      "\n",
      "Demi Lovato\n",
      "similarity: 0.2936941259212815\n",
      "\n",
      "Guillermo Fariñas\n",
      "similarity: 0.2926300167693928\n",
      "\n",
      "Clarence Darrow\n",
      "similarity: 0.2920908099501714\n",
      "\n",
      "Gesche Gottfried\n",
      "similarity: 0.2917098936439026\n",
      "\n",
      "Jeanne Weber\n",
      "similarity: 0.2891016955316803\n",
      "\n",
      "Mickey Rooney\n",
      "similarity: 0.28888473711409407\n",
      "\n",
      "Carmine Persico\n",
      "similarity: 0.2881136697873146\n",
      "\n",
      "Jenna Jameson\n",
      "similarity: 0.28790831545472106\n",
      "\n"
     ]
    }
   ],
   "source": [
    "# 3 Schumacher\n",
    "print(\"Schumacher\")\n",
    "print_best_10(3, tfidf_ss, use_cos_dist=True, with_text=False)\n",
    "print()\n",
    "\n",
    "# 215 Einstein\n",
    "print(\"Einstein\")\n",
    "print_best_10(215, tfidf_ss, use_cos_dist=True, with_text=False)\n",
    "print()\n",
    "\n",
    "# 1951 Jackson\n",
    "print(\"Jackson\")\n",
    "print_best_10(1951, tfidf_ss, use_cos_dist=True, with_text=False)"
   ]
  },
  {
   "cell_type": "markdown",
   "metadata": {},
   "source": [
    "# 5) TF-IDF"
   ]
  },
  {
   "cell_type": "code",
   "execution_count": 16,
   "metadata": {},
   "outputs": [
    {
     "name": "stdout",
     "output_type": "stream",
     "text": [
      "(10000, 222679)\n"
     ]
    }
   ],
   "source": [
    "tfidf = tf_idf(use_stopword=True, do_stem=True, idf=True)"
   ]
  },
  {
   "cell_type": "code",
   "execution_count": 101,
   "metadata": {},
   "outputs": [
    {
     "name": "stdout",
     "output_type": "stream",
     "text": [
      "Schumacher\n",
      "Fernando Alonso\n",
      "similarity: 0.43259498462741586\n",
      "\n",
      "Lewis Hamilton\n",
      "similarity: 0.4232073155611383\n",
      "\n",
      "Sebastian Vettel\n",
      "similarity: 0.4125359134686056\n",
      "\n",
      "Kimi Räikkönen\n",
      "similarity: 0.40856511143695723\n",
      "\n",
      "Rubens Barrichello\n",
      "similarity: 0.398411126073899\n",
      "\n",
      "Heinz-Harald Frentzen\n",
      "similarity: 0.3771030394627472\n",
      "\n",
      "Alain Prost\n",
      "similarity: 0.37290592139973916\n",
      "\n",
      "Jacques Villeneuve\n",
      "similarity: 0.3726410297274071\n",
      "\n",
      "Jenson Button\n",
      "similarity: 0.3701953270703065\n",
      "\n",
      "Ayrton Senna\n",
      "similarity: 0.36559549849420114\n",
      "\n",
      "\n",
      "Einstein\n",
      "Max Planck\n",
      "similarity: 0.3676940979460488\n",
      "\n",
      "David Hilbert\n",
      "similarity: 0.33990370886414417\n",
      "\n",
      "Percy Ernst Schramm\n",
      "similarity: 0.33788731616043205\n",
      "\n",
      "Wolfgang Pauli\n",
      "similarity: 0.33726860771514705\n",
      "\n",
      "Otto Hahn\n",
      "similarity: 0.33703622530055394\n",
      "\n",
      "Karl Jaspers\n",
      "similarity: 0.3332119048446101\n",
      "\n",
      "Johannes Haller\n",
      "similarity: 0.33083422944083657\n",
      "\n",
      "Karl Hampe (Historiker)\n",
      "similarity: 0.33023297820961706\n",
      "\n",
      "Bertrand Russell\n",
      "similarity: 0.32938081968297833\n",
      "\n",
      "Max Frisch\n",
      "similarity: 0.32827254428793357\n",
      "\n",
      "\n",
      "Jackson\n",
      "Eminem\n",
      "similarity: 0.3040370509964669\n",
      "\n",
      "George Michael\n",
      "similarity: 0.2955625644026939\n",
      "\n",
      "Demi Lovato\n",
      "similarity: 0.2936941259212815\n",
      "\n",
      "Guillermo Fariñas\n",
      "similarity: 0.2926300167693928\n",
      "\n",
      "Clarence Darrow\n",
      "similarity: 0.2920908099501714\n",
      "\n",
      "Gesche Gottfried\n",
      "similarity: 0.2917098936439026\n",
      "\n",
      "Jeanne Weber\n",
      "similarity: 0.2891016955316803\n",
      "\n",
      "Mickey Rooney\n",
      "similarity: 0.28888473711409407\n",
      "\n",
      "Carmine Persico\n",
      "similarity: 0.2881136697873146\n",
      "\n",
      "Jenna Jameson\n",
      "similarity: 0.28790831545472106\n",
      "\n"
     ]
    }
   ],
   "source": [
    "# 3 Schumacher\n",
    "print(\"Schumacher\")\n",
    "print_best_10(3, tfidf, use_cos_dist=True, with_text=False)\n",
    "print()\n",
    "\n",
    "# 215 Einstein\n",
    "print(\"Einstein\")\n",
    "print_best_10(215, tfidf, use_cos_dist=True, with_text=False)\n",
    "print()\n",
    "\n",
    "# 1951 Jackson\n",
    "print(\"Jackson\")\n",
    "print_best_10(1951, tfidf, use_cos_dist=True, with_text=False)"
   ]
  },
  {
   "cell_type": "markdown",
   "metadata": {},
   "source": [
    "# 6a) LSA with k=100"
   ]
  },
  {
   "cell_type": "code",
   "execution_count": 13,
   "metadata": {},
   "outputs": [
    {
     "ename": "NameError",
     "evalue": "name 'tfidf' is not defined",
     "output_type": "error",
     "traceback": [
      "\u001b[1;31m---------------------------------------------------------------------------\u001b[0m",
      "\u001b[1;31mNameError\u001b[0m                                 Traceback (most recent call last)",
      "\u001b[1;32m<ipython-input-13-5ac81faddbaa>\u001b[0m in \u001b[0;36m<module>\u001b[1;34m()\u001b[0m\n\u001b[1;32m----> 1\u001b[1;33m \u001b[0ms\u001b[0m\u001b[1;33m,\u001b[0m \u001b[0me\u001b[0m\u001b[1;33m,\u001b[0m \u001b[0mu\u001b[0m \u001b[1;33m=\u001b[0m \u001b[0mnp\u001b[0m\u001b[1;33m.\u001b[0m\u001b[0mlinalg\u001b[0m\u001b[1;33m.\u001b[0m\u001b[0msvd\u001b[0m\u001b[1;33m(\u001b[0m\u001b[0mtfidf\u001b[0m\u001b[1;33m.\u001b[0m\u001b[0mtoarray\u001b[0m\u001b[1;33m(\u001b[0m\u001b[1;33m)\u001b[0m\u001b[1;33m)\u001b[0m\u001b[1;33m\u001b[0m\u001b[0m\n\u001b[0m",
      "\u001b[1;31mNameError\u001b[0m: name 'tfidf' is not defined"
     ]
    }
   ],
   "source": [
    "s, e, u = np.linalg.svd(tfidf.toarray())"
   ]
  },
  {
   "cell_type": "code",
   "execution_count": null,
   "metadata": {},
   "outputs": [],
   "source": []
  },
  {
   "cell_type": "code",
   "execution_count": null,
   "metadata": {},
   "outputs": [],
   "source": [
    "epsilon = np.diag(e[:100])\n",
    "#np.diag(a)"
   ]
  },
  {
   "cell_type": "markdown",
   "metadata": {},
   "source": [
    "# 6b) LSA with k=500"
   ]
  },
  {
   "cell_type": "code",
   "execution_count": null,
   "metadata": {},
   "outputs": [],
   "source": []
  },
  {
   "cell_type": "markdown",
   "metadata": {},
   "source": [
    "# 6c) LSA with k=1000"
   ]
  },
  {
   "cell_type": "code",
   "execution_count": null,
   "metadata": {},
   "outputs": [],
   "source": []
  }
 ],
 "metadata": {
  "kernelspec": {
   "display_name": "Python 3",
   "language": "python",
   "name": "python3"
  },
  "language_info": {
   "codemirror_mode": {
    "name": "ipython",
    "version": 3
   },
   "file_extension": ".py",
   "mimetype": "text/x-python",
   "name": "python",
   "nbconvert_exporter": "python",
   "pygments_lexer": "ipython3",
   "version": "3.6.4"
  }
 },
 "nbformat": 4,
 "nbformat_minor": 2
}
